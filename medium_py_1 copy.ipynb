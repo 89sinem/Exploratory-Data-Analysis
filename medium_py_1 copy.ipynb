{
 "cells": [
  {
   "cell_type": "markdown",
   "metadata": {},
   "source": [
    "| **Category**       | **EDA Tools/Libraries**                                                                 | **Descriptive Analysis Tools/Libraries**                                       | **Visualization Tools/Libraries**                                              |\n",
    "|--------------------|-----------------------------------------------------------------------------------------|--------------------------------------------------------------------------------|--------------------------------------------------------------------------------|\n",
    "| **Python**         | - **Pandas**: Data exploration, filtering, and summary statistics.                      | - **Pandas**: Calculate metrics (e.g., mean, median, sum) and group data.      | - **Matplotlib**: Basic static visualizations (line, bar, scatter).             |\n",
    "|                    | - **NumPy**: Quick numerical summaries and calculations.                                | - **NumPy**: Compute descriptive statistics like variance and standard deviation. | - **Seaborn**: Advanced, aesthetically pleasing plots (e.g., box plots, heatmaps). |\n",
    "|                    | - **SciPy**: Statistical tests (e.g., correlation, normality tests).                    | - **SciPy**: Compute additional statistical metrics for summarization.         | - **Plotly**: Interactive visualizations (e.g., interactive line/bar charts).   |\n",
    "|                    | - **Seaborn**: Data distribution exploration (e.g., histograms, KDE plots).             | - **Statsmodels**: Summarize data and compute statistical measures.            | - **Altair**: Declarative, concise plotting for interactive charts.             |\n",
    "|                    | - **Matplotlib**: Quick exploratory plots (e.g., scatter plots, histograms).            | - **OpenPyXL/xlsxwriter**: Export descriptive summaries to Excel.              | - **Bokeh**: Interactive visualizations for web-based dashboards.               |\n",
    "|                    | - **Sweetviz**: Generate automated EDA reports.                                        |                                                                                |                                                                                 |\n",
    "|                    | - **D-Tale**: Interactive EDA with summary statistics and visualizations.               |                                                                                |                                                                                 |\n"
   ]
  },
  {
   "cell_type": "markdown",
   "metadata": {},
   "source": [
    "| **Category**       | **EDA Tools/Libraries**                                                                 | **Descriptive Analysis Tools/Libraries**                                       | **Visualization Tools/Libraries**                                              |\n",
    "|--------------------|-----------------------------------------------------------------------------------------|--------------------------------------------------------------------------------|--------------------------------------------------------------------------------|\n",
    "| **R**             | - **dplyr**: Data manipulation and exploration.                                         | - **dplyr**: Summarize data (e.g., mean, median, group summaries).             | - **ggplot2**: Highly customizable static visualizations.                       |\n",
    "|                    | - **tidyr**: Organize and clean data for exploration.                                   | - **tidyverse**: Framework for descriptive statistics and grouped summaries.   | - **plotly (R)**: Create interactive plots.                                     |\n",
    "|                    | - **DataExplorer**: Automated EDA reports.                                             | - **summarytools**: Generate descriptive statistics in a report format.        | - **lattice**: Multi-panel plots for grouped data.                              |\n",
    "|                    | - **skimr**: Quick summaries of variables and distributions.                            | - **Hmisc**: Summarize data with statistical metrics and visualizations.       | - **shiny**: Build interactive dashboards for descriptive insights.             |\n"
   ]
  },
  {
   "cell_type": "markdown",
   "metadata": {},
   "source": [
    "| **Category**               | **EDA Tools/Libraries**                                                                 | **Descriptive Analysis Tools/Libraries**                                       | **Visualization Tools/Libraries**                                              |\n",
    "|----------------------------|-----------------------------------------------------------------------------------------|--------------------------------------------------------------------------------|--------------------------------------------------------------------------------|\n",
    "| **SQL**                    | - SQL Queries: Use `SELECT`, `GROUP BY`, and `HAVING` to explore datasets.              | - SQL Queries: Aggregate functions like `SUM`, `AVG`, `COUNT`, `MIN`, `MAX`.  | - SQL Visualization Add-ons: Tools like Tableau or Power BI for visualization.  |\n",
    "| **Business Intelligence**  | - **Tableau Prep**: Data preparation and exploration.                                   | - **Tableau**: Summarize data with KPIs and dashboards.                        | - **Tableau**: Create interactive dashboards and visualizations.                |\n",
    "|                            | - **Power Query (Excel/Power BI)**: Data cleaning and exploration.                      | - **Power BI**: Aggregate and summarize data into charts and KPIs.             | - **Power BI**: Build interactive visuals and dashboards.                       |\n",
    "| **Spreadsheet Tools**      | - **Excel/Google Sheets**: Use filters, pivot tables, and conditional formatting.       | - **Excel/Google Sheets**: Use formulas like `SUM`, `AVERAGE`, and `COUNTIF`.  | - **Excel/Google Sheets**: Create basic charts (e.g., pie, bar, line).          |\n"
   ]
  },
  {
   "cell_type": "code",
   "execution_count": null,
   "metadata": {},
   "outputs": [],
   "source": []
  },
  {
   "cell_type": "markdown",
   "metadata": {
    "id": "wq-7TKwk5iuO"
   },
   "source": [
    "# Exploratory Data Analysis:  Exploration & Manipulation & Visualization"
   ]
  },
  {
   "cell_type": "code",
   "execution_count": null,
   "metadata": {},
   "outputs": [],
   "source": []
  },
  {
   "cell_type": "markdown",
   "metadata": {
    "id": "4l5joWZoxmeb"
   },
   "source": [
    "### Dataset Description:\n",
    "\n",
    "|Variable|Description|\n",
    "| :- | :- |\n",
    "|**Date**|This indicates the date associated with the observation.  Each row in this dataset represents one day's worth of park operations between Memorial Day and Labor Day.|\n",
    "|**Weekday**|This variable indicates the day of the week.|\n",
    "|**Low_Temp**|The lowest recorded temperature during this 24-hour period|\n",
    "|**High_Temp**|The highest recorded temperature during this 24-hour period|\n",
    "|**DayPass**|This is the number of people who entered the park this day using single day passes.|\n",
    "|**TotalPax**|This is the total number of visitors to the park on this particular day.  TotalPax includes two types of park visitors – day pass holders, and season pass holders.|\n",
    "|**Precip**|This is the total rainfall, in inches, for that day's 24-hour period|\n",
    "|**MerchRev**|This is the total merchandise revenue for that day's park operations.|\n",
    "|**SnackRev**|This is the total Snack Shack revenue for that day's park operations.|\n",
    "|**LobsteramaRev**|This is the total Lobsterama revenue for that day's park operations.  Lobsterama is the sit-down, full-service restaurant inside Lobster Land.|\n",
    "|**GoldZoneRev**|This is total daily revenue from the Gold Zone, Lobster Land's in-house arcade|\n",
    "|**CSD_Complaints**|This is the total number of visitor complaints registered at the Customer Service Desk (CSD) throughout that day's park operations|\n",
    "|**Ridership**|Ridership is found by taking the total number of riders on all rides throughout the day.  A single person can be counted multiple times in the 'ridership' metric – for instance, if a visitor went on 12 rides during one day, he would contribute +12 to this metric.|\n",
    "|**TotalRev**|This is the total revenue, from all sources, for Lobster Land during that day|"
   ]
  },
  {
   "cell_type": "code",
   "execution_count": null,
   "metadata": {},
   "outputs": [],
   "source": []
  },
  {
   "cell_type": "markdown",
   "metadata": {},
   "source": [
    "### Libraries"
   ]
  },
  {
   "cell_type": "code",
   "execution_count": 1,
   "metadata": {},
   "outputs": [],
   "source": [
    "import pandas as pd\n",
    "import matplotlib.pyplot as plt\n",
    "import seaborn as sns\n",
    "import calendar\n",
    "import matplotlib.patches as mpatches"
   ]
  },
  {
   "cell_type": "code",
   "execution_count": null,
   "metadata": {},
   "outputs": [],
   "source": []
  },
  {
   "cell_type": "markdown",
   "metadata": {},
   "source": [
    "## - Reading the data"
   ]
  },
  {
   "cell_type": "code",
   "execution_count": 2,
   "metadata": {},
   "outputs": [],
   "source": [
    "df = pd.read_csv(r\"lobster23.csv\")"
   ]
  },
  {
   "cell_type": "code",
   "execution_count": 3,
   "metadata": {},
   "outputs": [
    {
     "data": {
      "text/html": [
       "<div>\n",
       "<style scoped>\n",
       "    .dataframe tbody tr th:only-of-type {\n",
       "        vertical-align: middle;\n",
       "    }\n",
       "\n",
       "    .dataframe tbody tr th {\n",
       "        vertical-align: top;\n",
       "    }\n",
       "\n",
       "    .dataframe thead th {\n",
       "        text-align: right;\n",
       "    }\n",
       "</style>\n",
       "<table border=\"1\" class=\"dataframe\">\n",
       "  <thead>\n",
       "    <tr style=\"text-align: right;\">\n",
       "      <th></th>\n",
       "      <th>Date</th>\n",
       "      <th>Weekday</th>\n",
       "      <th>LowTemp</th>\n",
       "      <th>HighTemp</th>\n",
       "      <th>DayPass</th>\n",
       "      <th>TotalPax</th>\n",
       "      <th>Precip</th>\n",
       "      <th>MerchRev</th>\n",
       "      <th>SnackRev</th>\n",
       "      <th>LobsteramaRev</th>\n",
       "      <th>GoldZoneRev</th>\n",
       "      <th>CSD_Complaints</th>\n",
       "      <th>Ridership</th>\n",
       "      <th>TotalRev</th>\n",
       "    </tr>\n",
       "  </thead>\n",
       "  <tbody>\n",
       "    <tr>\n",
       "      <th>0</th>\n",
       "      <td>29-May</td>\n",
       "      <td>Monday</td>\n",
       "      <td>53</td>\n",
       "      <td>82</td>\n",
       "      <td>5471</td>\n",
       "      <td>6999</td>\n",
       "      <td>0</td>\n",
       "      <td>56838.04</td>\n",
       "      <td>28032</td>\n",
       "      <td>35838.53</td>\n",
       "      <td>27437.39</td>\n",
       "      <td>10</td>\n",
       "      <td>28068</td>\n",
       "      <td>168826.54</td>\n",
       "    </tr>\n",
       "    <tr>\n",
       "      <th>1</th>\n",
       "      <td>30-May</td>\n",
       "      <td>Tuesday</td>\n",
       "      <td>50</td>\n",
       "      <td>72</td>\n",
       "      <td>2887</td>\n",
       "      <td>4082</td>\n",
       "      <td>T</td>\n",
       "      <td>33148.98</td>\n",
       "      <td>15200</td>\n",
       "      <td>20904.45</td>\n",
       "      <td>15999.55</td>\n",
       "      <td>6</td>\n",
       "      <td>16370</td>\n",
       "      <td>98453.38</td>\n",
       "    </tr>\n",
       "    <tr>\n",
       "      <th>2</th>\n",
       "      <td>31-May</td>\n",
       "      <td>Wednesday</td>\n",
       "      <td>50</td>\n",
       "      <td>59</td>\n",
       "      <td>3258</td>\n",
       "      <td>4424</td>\n",
       "      <td>0.03</td>\n",
       "      <td>35923.44</td>\n",
       "      <td>18132</td>\n",
       "      <td>22649.05</td>\n",
       "      <td>17341.59</td>\n",
       "      <td>1</td>\n",
       "      <td>17739</td>\n",
       "      <td>106697.74</td>\n",
       "    </tr>\n",
       "    <tr>\n",
       "      <th>3</th>\n",
       "      <td>1-Jun</td>\n",
       "      <td>Thursday</td>\n",
       "      <td>51</td>\n",
       "      <td>64</td>\n",
       "      <td>6430</td>\n",
       "      <td>7167</td>\n",
       "      <td>0.23</td>\n",
       "      <td>58198.77</td>\n",
       "      <td>29888</td>\n",
       "      <td>36693.66</td>\n",
       "      <td>28095.16</td>\n",
       "      <td>8</td>\n",
       "      <td>28740</td>\n",
       "      <td>172868.15</td>\n",
       "    </tr>\n",
       "    <tr>\n",
       "      <th>4</th>\n",
       "      <td>2-Jun</td>\n",
       "      <td>Friday</td>\n",
       "      <td>50</td>\n",
       "      <td>55</td>\n",
       "      <td>5981</td>\n",
       "      <td>6388</td>\n",
       "      <td>0.12</td>\n",
       "      <td>51873.00</td>\n",
       "      <td>21648</td>\n",
       "      <td>32711.07</td>\n",
       "      <td>25038.58</td>\n",
       "      <td>7</td>\n",
       "      <td>25615</td>\n",
       "      <td>154067.45</td>\n",
       "    </tr>\n",
       "  </tbody>\n",
       "</table>\n",
       "</div>"
      ],
      "text/plain": [
       "     Date    Weekday  LowTemp  HighTemp  DayPass  TotalPax Precip  MerchRev  \\\n",
       "0  29-May     Monday       53        82     5471      6999      0  56838.04   \n",
       "1  30-May    Tuesday       50        72     2887      4082      T  33148.98   \n",
       "2  31-May  Wednesday       50        59     3258      4424   0.03  35923.44   \n",
       "3   1-Jun   Thursday       51        64     6430      7167   0.23  58198.77   \n",
       "4   2-Jun     Friday       50        55     5981      6388   0.12  51873.00   \n",
       "\n",
       "   SnackRev  LobsteramaRev  GoldZoneRev  CSD_Complaints  Ridership   TotalRev  \n",
       "0     28032       35838.53     27437.39              10      28068  168826.54  \n",
       "1     15200       20904.45     15999.55               6      16370   98453.38  \n",
       "2     18132       22649.05     17341.59               1      17739  106697.74  \n",
       "3     29888       36693.66     28095.16               8      28740  172868.15  \n",
       "4     21648       32711.07     25038.58               7      25615  154067.45  "
      ]
     },
     "execution_count": 3,
     "metadata": {},
     "output_type": "execute_result"
    }
   ],
   "source": [
    "df.head()"
   ]
  },
  {
   "cell_type": "code",
   "execution_count": null,
   "metadata": {},
   "outputs": [],
   "source": []
  },
  {
   "cell_type": "markdown",
   "metadata": {},
   "source": [
    "## - Data shape"
   ]
  },
  {
   "cell_type": "code",
   "execution_count": 4,
   "metadata": {
    "id": "QWDD4UKi40ZQ"
   },
   "outputs": [
    {
     "name": "stdout",
     "output_type": "stream",
     "text": [
      "Number of rows: 99\n",
      "Number of columns: 14\n"
     ]
    }
   ],
   "source": [
    "rows, columns = df.shape\n",
    "print(f\"Number of rows: {rows}\")\n",
    "print(f\"Number of columns: {columns}\")"
   ]
  },
  {
   "cell_type": "code",
   "execution_count": null,
   "metadata": {},
   "outputs": [],
   "source": []
  },
  {
   "cell_type": "markdown",
   "metadata": {},
   "source": [
    "## - Data types"
   ]
  },
  {
   "cell_type": "code",
   "execution_count": 5,
   "metadata": {},
   "outputs": [
    {
     "data": {
      "text/plain": [
       "Date               object\n",
       "Weekday            object\n",
       "LowTemp             int64\n",
       "HighTemp            int64\n",
       "DayPass             int64\n",
       "TotalPax            int64\n",
       "Precip             object\n",
       "MerchRev          float64\n",
       "SnackRev            int64\n",
       "LobsteramaRev     float64\n",
       "GoldZoneRev       float64\n",
       "CSD_Complaints      int64\n",
       "Ridership           int64\n",
       "TotalRev          float64\n",
       "dtype: object"
      ]
     },
     "execution_count": 5,
     "metadata": {},
     "output_type": "execute_result"
    }
   ],
   "source": [
    "df.dtypes"
   ]
  },
  {
   "cell_type": "markdown",
   "metadata": {},
   "source": [
    "<b>Result:</b><br>\n",
    "<strong>\"df.dtypes\"</strong> is shows variables types.<br>\n",
    "However, sometimes variables types might be wrong.<br>\n",
    "We should check each of them carefully.<br>\n",
    "If any type is wrong, then we should convert it to correct one."
   ]
  },
  {
   "cell_type": "code",
   "execution_count": null,
   "metadata": {},
   "outputs": [],
   "source": []
  },
  {
   "cell_type": "markdown",
   "metadata": {},
   "source": [
    "### Fixing data type:"
   ]
  },
  {
   "cell_type": "code",
   "execution_count": 6,
   "metadata": {},
   "outputs": [
    {
     "data": {
      "text/plain": [
       "0    2023-05-29\n",
       "1    2023-05-30\n",
       "2    2023-05-31\n",
       "3    2023-06-01\n",
       "4    2023-06-02\n",
       "        ...    \n",
       "94   2023-08-31\n",
       "95   2023-09-01\n",
       "96   2023-09-02\n",
       "97   2023-09-03\n",
       "98   2023-09-04\n",
       "Name: Date, Length: 99, dtype: datetime64[ns]"
      ]
     },
     "execution_count": 6,
     "metadata": {},
     "output_type": "execute_result"
    }
   ],
   "source": [
    "# Date column should be in Date format\n",
    "df['Date'] = pd.to_datetime(df['Date'] + '-2023', format='%d-%b-%Y')\n",
    "df['Date']"
   ]
  },
  {
   "cell_type": "code",
   "execution_count": 7,
   "metadata": {},
   "outputs": [
    {
     "data": {
      "text/html": [
       "<div>\n",
       "<style scoped>\n",
       "    .dataframe tbody tr th:only-of-type {\n",
       "        vertical-align: middle;\n",
       "    }\n",
       "\n",
       "    .dataframe tbody tr th {\n",
       "        vertical-align: top;\n",
       "    }\n",
       "\n",
       "    .dataframe thead th {\n",
       "        text-align: right;\n",
       "    }\n",
       "</style>\n",
       "<table border=\"1\" class=\"dataframe\">\n",
       "  <thead>\n",
       "    <tr style=\"text-align: right;\">\n",
       "      <th></th>\n",
       "      <th>Weekday</th>\n",
       "      <th>LowTemp</th>\n",
       "      <th>HighTemp</th>\n",
       "      <th>DayPass</th>\n",
       "      <th>TotalPax</th>\n",
       "      <th>Precip</th>\n",
       "      <th>MerchRev</th>\n",
       "      <th>SnackRev</th>\n",
       "      <th>LobsteramaRev</th>\n",
       "      <th>GoldZoneRev</th>\n",
       "      <th>CSD_Complaints</th>\n",
       "      <th>Ridership</th>\n",
       "      <th>TotalRev</th>\n",
       "      <th>Day</th>\n",
       "      <th>Month</th>\n",
       "    </tr>\n",
       "  </thead>\n",
       "  <tbody>\n",
       "    <tr>\n",
       "      <th>0</th>\n",
       "      <td>Monday</td>\n",
       "      <td>53</td>\n",
       "      <td>82</td>\n",
       "      <td>5471</td>\n",
       "      <td>6999</td>\n",
       "      <td>0</td>\n",
       "      <td>56838.04</td>\n",
       "      <td>28032</td>\n",
       "      <td>35838.53</td>\n",
       "      <td>27437.39</td>\n",
       "      <td>10</td>\n",
       "      <td>28068</td>\n",
       "      <td>168826.54</td>\n",
       "      <td>29</td>\n",
       "      <td>5</td>\n",
       "    </tr>\n",
       "    <tr>\n",
       "      <th>1</th>\n",
       "      <td>Tuesday</td>\n",
       "      <td>50</td>\n",
       "      <td>72</td>\n",
       "      <td>2887</td>\n",
       "      <td>4082</td>\n",
       "      <td>T</td>\n",
       "      <td>33148.98</td>\n",
       "      <td>15200</td>\n",
       "      <td>20904.45</td>\n",
       "      <td>15999.55</td>\n",
       "      <td>6</td>\n",
       "      <td>16370</td>\n",
       "      <td>98453.38</td>\n",
       "      <td>30</td>\n",
       "      <td>5</td>\n",
       "    </tr>\n",
       "    <tr>\n",
       "      <th>2</th>\n",
       "      <td>Wednesday</td>\n",
       "      <td>50</td>\n",
       "      <td>59</td>\n",
       "      <td>3258</td>\n",
       "      <td>4424</td>\n",
       "      <td>0.03</td>\n",
       "      <td>35923.44</td>\n",
       "      <td>18132</td>\n",
       "      <td>22649.05</td>\n",
       "      <td>17341.59</td>\n",
       "      <td>1</td>\n",
       "      <td>17739</td>\n",
       "      <td>106697.74</td>\n",
       "      <td>31</td>\n",
       "      <td>5</td>\n",
       "    </tr>\n",
       "    <tr>\n",
       "      <th>3</th>\n",
       "      <td>Thursday</td>\n",
       "      <td>51</td>\n",
       "      <td>64</td>\n",
       "      <td>6430</td>\n",
       "      <td>7167</td>\n",
       "      <td>0.23</td>\n",
       "      <td>58198.77</td>\n",
       "      <td>29888</td>\n",
       "      <td>36693.66</td>\n",
       "      <td>28095.16</td>\n",
       "      <td>8</td>\n",
       "      <td>28740</td>\n",
       "      <td>172868.15</td>\n",
       "      <td>1</td>\n",
       "      <td>6</td>\n",
       "    </tr>\n",
       "    <tr>\n",
       "      <th>4</th>\n",
       "      <td>Friday</td>\n",
       "      <td>50</td>\n",
       "      <td>55</td>\n",
       "      <td>5981</td>\n",
       "      <td>6388</td>\n",
       "      <td>0.12</td>\n",
       "      <td>51873.00</td>\n",
       "      <td>21648</td>\n",
       "      <td>32711.07</td>\n",
       "      <td>25038.58</td>\n",
       "      <td>7</td>\n",
       "      <td>25615</td>\n",
       "      <td>154067.45</td>\n",
       "      <td>2</td>\n",
       "      <td>6</td>\n",
       "    </tr>\n",
       "  </tbody>\n",
       "</table>\n",
       "</div>"
      ],
      "text/plain": [
       "     Weekday  LowTemp  HighTemp  DayPass  TotalPax Precip  MerchRev  SnackRev  \\\n",
       "0     Monday       53        82     5471      6999      0  56838.04     28032   \n",
       "1    Tuesday       50        72     2887      4082      T  33148.98     15200   \n",
       "2  Wednesday       50        59     3258      4424   0.03  35923.44     18132   \n",
       "3   Thursday       51        64     6430      7167   0.23  58198.77     29888   \n",
       "4     Friday       50        55     5981      6388   0.12  51873.00     21648   \n",
       "\n",
       "   LobsteramaRev  GoldZoneRev  CSD_Complaints  Ridership   TotalRev  Day  \\\n",
       "0       35838.53     27437.39              10      28068  168826.54   29   \n",
       "1       20904.45     15999.55               6      16370   98453.38   30   \n",
       "2       22649.05     17341.59               1      17739  106697.74   31   \n",
       "3       36693.66     28095.16               8      28740  172868.15    1   \n",
       "4       32711.07     25038.58               7      25615  154067.45    2   \n",
       "\n",
       "   Month  \n",
       "0      5  \n",
       "1      5  \n",
       "2      5  \n",
       "3      6  \n",
       "4      6  "
      ]
     },
     "execution_count": 7,
     "metadata": {},
     "output_type": "execute_result"
    }
   ],
   "source": [
    "# Also, based on what we want to do with data, we can seperate Month and Date and remove the year column.\n",
    "# If we know the year (2023), we can simply remove it. \n",
    "\n",
    "df['Day'] = df['Date'].dt.day\n",
    "df['Month'] = df['Date'].dt.month\n",
    "df.drop('Date', axis=1, inplace=True)\n",
    "df.head()"
   ]
  },
  {
   "cell_type": "code",
   "execution_count": 8,
   "metadata": {},
   "outputs": [
    {
     "data": {
      "text/plain": [
       "Weekday            object\n",
       "LowTemp             int64\n",
       "HighTemp            int64\n",
       "DayPass             int64\n",
       "TotalPax            int64\n",
       "Precip             object\n",
       "MerchRev          float64\n",
       "SnackRev            int64\n",
       "LobsteramaRev     float64\n",
       "GoldZoneRev       float64\n",
       "CSD_Complaints      int64\n",
       "Ridership           int64\n",
       "TotalRev          float64\n",
       "Day                 int32\n",
       "Month               int32\n",
       "dtype: object"
      ]
     },
     "execution_count": 8,
     "metadata": {},
     "output_type": "execute_result"
    }
   ],
   "source": [
    "# Now, we can show variable types:\n",
    "df.dtypes"
   ]
  },
  {
   "cell_type": "code",
   "execution_count": null,
   "metadata": {},
   "outputs": [],
   "source": []
  },
  {
   "cell_type": "markdown",
   "metadata": {},
   "source": [
    "## - Checking values in each column to catch if there is different one:"
   ]
  },
  {
   "cell_type": "code",
   "execution_count": 9,
   "metadata": {},
   "outputs": [
    {
     "name": "stdout",
     "output_type": "stream",
     "text": [
      "Unique values in Weekday: ['Monday' 'Tuesday' 'Wednesday' 'Thursday' 'Friday' 'Saturday' 'Sunday']\n",
      "Unique values in LowTemp: [53 50 51 52 49 45 57 55 74 59 58 61 46 56 64 63 54 60 62 68 67 66 65 69\n",
      " 73 70]\n",
      "Unique values in HighTemp: [82 72 59 64 55 60 71 76 73 78 69 75 51 74 77 84 66 56 86 79 83 87 85 81\n",
      " 91 89 93 92 88 96 95 80 68 90 67]\n",
      "Unique values in DayPass: [5471 2887 3258 6430 5981 7356 4423 2449 5819 3852 6160 7507 6905 5709\n",
      " 1317 3262 5913 5651 7401 7832 6776 6276 4674 6291 5609 8058 2820 5899\n",
      " 4579 3849 1534 5378 5898 6184 7715 3046 3816 1384 1938 5664 3310 8150\n",
      " 6665 1777 4139 5337 4172 6154 2671 2004 1205 1637 5218 5299 5557 5978\n",
      " 4471 2184 6089 5792 3269 7652 6357 3078 5529 4932 4505 6692 2844 5190\n",
      " 1891 4868 1996 2171 6960 6284 5561 2177 2753 2991 1211 6487 2581 5781\n",
      " 3822 6219 4367 6035 4300 6478 3463 3303 2911 5329 1836 4278 2775 4503\n",
      " 6049]\n",
      "Unique values in TotalPax: [6999 4082 4424 7167 6388 8987 4955 3791 6508 4048 6927 8094 8045 6039\n",
      " 2557 3954 7158 6170 8116 8510 7685 7848 6599 7439 6384 9097 4232 7714\n",
      " 5100 5277 2781 6723 6511 6449 9554 3795 4651 2350 2140 7367 5028 8820\n",
      " 7001 2106 5269 7212 4502 6919 4276 2725 2302 2287 6659 6108 6267 7084\n",
      " 6187 3404 7443 7557 5173 8659 7919 4648 6086 6809 5101 8016 4612 6087\n",
      " 3609 6731 3212 2788 8720 6967 6515 3883 3586 4126 2164 7682 4337 6663\n",
      " 4307 6677 6098 6497 5977 8181 4789 4120 4471 6638 3608 5687 3105 6130\n",
      " 7987]\n",
      "Unique values in Precip: ['0' 'T' '0.03' '0.23' '0.12' '0.38' '0.69' '0.26' '0.76' '0.07' '0.06'\n",
      " '0.01' '0.34' '0.04' '0.14' '0.21' '0.02' '0.27' '0.19' '0.13' '2.19'\n",
      " '1.52' '1.15' '0.46']\n",
      "Unique values in MerchRev: [56838.04 33148.98 35923.44 58198.77 51873.   72980.28 40239.43 30792.78\n",
      " 52848.41 32877.48 56252.77 65731.33 65332.48 49042.65 20769.84 32112.67\n",
      " 58127.43 50104.12 65910.45 69107.89 62411.68 63732.15 53587.48 60410.99\n",
      " 51847.17 73872.37 34374.1  62642.68 41420.43 42857.01 22594.14 54596.27\n",
      " 52876.76 52374.38 77581.92 30817.81 37771.24 19091.79 17384.51 59834.12\n",
      " 40829.99 71622.91 56859.26 17107.04 42793.05 58570.09 36567.67 56184.48\n",
      " 34723.99 22136.9  18697.75 18573.85 54074.71 49606.81 50896.6  57525.22\n",
      " 50246.74 27646.94 60442.38 61368.7  42016.99 70317.02 64310.93 37749.26\n",
      " 49426.37 55299.47 41425.42 65092.01 37455.06 49434.52 29307.99 54661.95\n",
      " 26093.42 22647.99 70810.83 56577.98 52906.01 31538.28 29128.61 33513.34\n",
      " 17584.68 62386.38 35224.81 54109.85 34977.54 54224.63 49518.68 52761.99\n",
      " 48540.66 66438.24 38886.94 33456.28 36308.12 53908.02 29302.36 46187.83\n",
      " 25219.28 49784.89 64857.02]\n",
      "Unique values in SnackRev: [28032 15200 18132 29888 21648 27524 14776 11940 29256 19352 26924 29316\n",
      " 26832 22604  8316 18888 26084 28200 27204 31176 25536 29312 20696 30400\n",
      " 24448 30836 10264 22300 23308 18612  9412 27212 21652 23488 15756 18404\n",
      " 10892 13252 20992 12940 30936 30632  9288 20476 24036 14512 25500 11152\n",
      " 13396 10352  9304 25328 20088 21704 22772 23564 13548 28320 27220 11028\n",
      " 28432 25416 17780 24708 23264 21900 26664 10688 19940 11396 23480 13652\n",
      " 11856 26780 21960 20972 11648 15636 16956  8688 22996  9884 20632 17880\n",
      " 27548 19916 28696 14296 22736 16652 16044 26584 10732 16552 11428 18232\n",
      " 20020]\n",
      "Unique values in LobsteramaRev: [35838.53 20904.45 22649.05 36693.66 32711.07 46011.96 25372.19 19411.86\n",
      " 33325.43 20730.66 35471.14 41442.23 41196.76 30927.31 13089.1  20245.24\n",
      " 36647.54 31594.09 41557.19 43574.19 39353.49 40183.45 33789.55 38082.75\n",
      " 32698.5  46580.32 21670.66 39494.49 26112.71 27024.65 14242.68 34428.39\n",
      " 33339.26 33018.43 48916.83 19430.78 23817.16 12035.53 10960.1  37725.49\n",
      " 25749.29 45152.13 35857.75 10783.18 26977.22 36932.08 23054.53 35430.47\n",
      " 21893.77 13957.38 11790.38 11707.94 34101.36 31278.8  32090.65 36277.79\n",
      " 31685.33 17428.95 38108.66 38694.11 26488.9  44336.52 40553.1  23806.2\n",
      " 31160.48 34865.96 26122.53 41045.61 23612.53 31170.24 18484.06 34467.51\n",
      " 16448.87 14279.05 44651.31 35674.97 33359.98 19884.46 18365.23 21128.01\n",
      " 11086.61 39337.52 22212.38 34120.76 22059.38 34193.55 31221.87 33267.13\n",
      " 30606.37 41892.93 24522.85 21097.15 22890.34 33981.24 18476.39 29125.24\n",
      " 15897.14 31392.88 40895.2 ]\n",
      "Unique values in GoldZoneRev: [27437.39 15999.55 17341.59 28095.16 25038.58 35227.25 19425.43 14864.65\n",
      " 25510.32 22851.21 49969.44 31730.35 31539.98 23676.3  10023.92 15503.01\n",
      " 28060.22 24189.77 64912.59 33363.84 30126.49 30768.32 25866.24 29163.17\n",
      " 25030.42 35662.57 16593.35 30240.32 19992.07 20691.32 10905.03 26358.28\n",
      " 25524.08 25280.17 37451.92 14876.62 18231.23  9215.66  8388.58 28881.44\n",
      " 19709.23 34573.13 27445.53  8255.57 20659.65 28274.53 17653.58 27123.51\n",
      " 16764.5  10684.75  9024.55  8966.19 26103.06 23945.91 24571.2  27770.83\n",
      " 24259.26 13347.69 29178.63 29624.61 20281.64 33942.54 31043.17 18222.43\n",
      " 23858.69 26693.43 19998.25 31423.04 18078.99 23861.97 14147.59 26391.48\n",
      " 12593.51 10931.87 34182.84 27308.66 25543.07 15222.31 14059.85 21675.52\n",
      "  8487.98 30117.86 17005.44 26121.82 39510.19 26176.97 23908.75 25468.08\n",
      " 52484.39 32074.56 18774.43 16150.81 17522.47 55690.73 14146.11 22296.78\n",
      " 12174.36 24029.45 54483.47]\n",
      "Unique values in CSD_Complaints: [10  6  1  8  7  3  9  5  2 12  4 11]\n",
      "Unique values in Ridership: [28068 16370 17739 28740 25615 36040 19872 15204 26098 16236 21368 32459\n",
      " 32263 24218 10255 15857 28705 24741 23931 34126 30818 31473 26462 29831\n",
      " 25602 36480 16973 30932 20453 21163 11154 26963 26111 25862 38313 15217\n",
      " 18652  9426  8583 29544 20161 35368 28078  8446 21132 28921 18055 27746\n",
      " 17149 10930  9231  9171 26702 24497 25134 28407 24814 13652 29848 30305\n",
      " 20748 34725 31757 18641 24407 27305 20456 32146 18495 24410 14473 26994\n",
      " 12882 11182 34967 27939 26127 15571 14382 16546  8681 30808 17395 26723\n",
      " 10172 26776 24454 26055 14101 32809 19203 16523 17928 17174 14469 22809\n",
      " 12452 24585 27850]\n",
      "Unique values in TotalRev: [168826.54  98453.38 106697.74 172868.15 154067.45 216767.42 119521.17\n",
      "  91450.2  156974.8   97640.98 167077.68 195226.13 194050.94 145656.56\n",
      "  61671.62  95368.66 172649.02 148821.33 195764.46 205261.74 185364.95\n",
      " 189301.46 159162.08       nan 153992.54 219410.   102085.18 186054.92\n",
      " 123018.92 127292.15  67091.34 162169.59 157049.88 155550.58 230438.58\n",
      "  91529.29 112178.81  56692.83  51621.49 177702.87 121268.26 212735.01\n",
      " 168875.86  50795.49 127091.23 173963.36 108598.19 166883.19 103135.49\n",
      "  65737.5   55524.26  55156.86 160614.65 147342.45 151173.98 170863.69\n",
      " 149244.98  82109.43 179523.53 182264.43 124789.61 208854.65 191013.1\n",
      " 112115.12 146793.03 164243.11 123033.05 193342.74 111236.61 146814.76\n",
      "  87048.95 162357.97  77481.54  67255.72 210318.8  168046.5  157140.12\n",
      "  93652.44  86503.75  99519.38  52207.54 185305.14 104612.1  160723.74\n",
      " 103878.33 161058.35 147081.19 156711.4  144180.93 197339.54 115506.58\n",
      " 107836.15 160108.39  87025.13 137187.16  74888.81 147871.   192639.43]\n",
      "Unique values in Day: [29 30 31  1  2  3  4  5  6  7  8  9 10 11 12 13 14 15 16 17 18 19 20 21\n",
      " 22 23 24 25 26 27 28]\n",
      "Unique values in Month: [5 6 7 8 9]\n"
     ]
    }
   ],
   "source": [
    "# Identify inconsistent values\n",
    "for column in df.columns:\n",
    "    print(f\"Unique values in {column}: {df[column].unique()}\")"
   ]
  },
  {
   "cell_type": "markdown",
   "metadata": {
    "id": "hiclJRnmzKzR"
   },
   "source": [
    "<b> Result:</b>\n",
    "- Something looks a bit strange right now with the 'Precip' variable.  \n",
    "- Some of the values in this column are currently showing as 'T' for days that featured trace amounts of rain (this means that **some** rain fell from the sky at some point, but it was too little to be measured).  \n",
    "- Replacing the 'T' values with a suitable numeric alternative so that this variable can be seen by pandas as numeric."
   ]
  },
  {
   "cell_type": "code",
   "execution_count": 10,
   "metadata": {},
   "outputs": [
    {
     "data": {
      "text/plain": [
       "Precip\n",
       "0       61\n",
       "T       11\n",
       "0.03     2\n",
       "0.23     2\n",
       "0.38     2\n",
       "0.07     2\n",
       "0.01     2\n",
       "0.21     1\n",
       "1.15     1\n",
       "1.52     1\n",
       "2.19     1\n",
       "0.13     1\n",
       "0.19     1\n",
       "0.27     1\n",
       "0.02     1\n",
       "0.34     1\n",
       "0.14     1\n",
       "0.04     1\n",
       "0.06     1\n",
       "0.76     1\n",
       "0.26     1\n",
       "0.69     1\n",
       "0.12     1\n",
       "0.46     1\n",
       "Name: count, dtype: int64"
      ]
     },
     "execution_count": 10,
     "metadata": {},
     "output_type": "execute_result"
    }
   ],
   "source": [
    "df['Precip'].value_counts()"
   ]
  },
  {
   "cell_type": "code",
   "execution_count": 11,
   "metadata": {},
   "outputs": [],
   "source": [
    "# We have float data inside that variable.\n",
    "# So, preplacing 0.01 would be the best.\n",
    "\n",
    "df['Precip'] = df['Precip'].replace('T', 0.01)\n",
    "\n",
    "# Convert the 'Precip' column to numeric\n",
    "df['Precip'] = pd.to_numeric(df['Precip'], errors='coerce')"
   ]
  },
  {
   "cell_type": "code",
   "execution_count": 12,
   "metadata": {},
   "outputs": [
    {
     "name": "stdout",
     "output_type": "stream",
     "text": [
      "Updated Data Types:\n",
      "Weekday            object\n",
      "LowTemp             int64\n",
      "HighTemp            int64\n",
      "DayPass             int64\n",
      "TotalPax            int64\n",
      "Precip            float64\n",
      "MerchRev          float64\n",
      "SnackRev            int64\n",
      "LobsteramaRev     float64\n",
      "GoldZoneRev       float64\n",
      "CSD_Complaints      int64\n",
      "Ridership           int64\n",
      "TotalRev          float64\n",
      "Day                 int32\n",
      "Month               int32\n",
      "dtype: object\n"
     ]
    }
   ],
   "source": [
    "# Check the updated data type\n",
    "print(\"Updated Data Types:\")\n",
    "print(df.dtypes)"
   ]
  },
  {
   "cell_type": "code",
   "execution_count": 13,
   "metadata": {},
   "outputs": [
    {
     "data": {
      "text/plain": [
       "Precip\n",
       "0.00    61\n",
       "0.01    13\n",
       "0.03     2\n",
       "0.23     2\n",
       "0.38     2\n",
       "0.07     2\n",
       "0.21     1\n",
       "1.15     1\n",
       "1.52     1\n",
       "2.19     1\n",
       "0.13     1\n",
       "0.19     1\n",
       "0.27     1\n",
       "0.02     1\n",
       "0.34     1\n",
       "0.14     1\n",
       "0.04     1\n",
       "0.06     1\n",
       "0.76     1\n",
       "0.26     1\n",
       "0.69     1\n",
       "0.12     1\n",
       "0.46     1\n",
       "Name: count, dtype: int64"
      ]
     },
     "execution_count": 13,
     "metadata": {},
     "output_type": "execute_result"
    }
   ],
   "source": [
    "# Check the updated value\n",
    "df['Precip'].value_counts()"
   ]
  },
  {
   "cell_type": "code",
   "execution_count": null,
   "metadata": {},
   "outputs": [],
   "source": []
  },
  {
   "cell_type": "markdown",
   "metadata": {},
   "source": [
    "## - Creating Columns if Needed (Based on the data and case situation)"
   ]
  },
  {
   "cell_type": "markdown",
   "metadata": {
    "id": "9oiBHAII4y9R"
   },
   "source": [
    "- There is no column here for \"season_passholders.\"  However, we can fix this!"
   ]
  },
  {
   "cell_type": "code",
   "execution_count": 14,
   "metadata": {},
   "outputs": [
    {
     "data": {
      "text/html": [
       "<div>\n",
       "<style scoped>\n",
       "    .dataframe tbody tr th:only-of-type {\n",
       "        vertical-align: middle;\n",
       "    }\n",
       "\n",
       "    .dataframe tbody tr th {\n",
       "        vertical-align: top;\n",
       "    }\n",
       "\n",
       "    .dataframe thead th {\n",
       "        text-align: right;\n",
       "    }\n",
       "</style>\n",
       "<table border=\"1\" class=\"dataframe\">\n",
       "  <thead>\n",
       "    <tr style=\"text-align: right;\">\n",
       "      <th></th>\n",
       "      <th>Weekday</th>\n",
       "      <th>LowTemp</th>\n",
       "      <th>HighTemp</th>\n",
       "      <th>DayPass</th>\n",
       "      <th>TotalPax</th>\n",
       "      <th>Precip</th>\n",
       "      <th>MerchRev</th>\n",
       "      <th>SnackRev</th>\n",
       "      <th>LobsteramaRev</th>\n",
       "      <th>GoldZoneRev</th>\n",
       "      <th>CSD_Complaints</th>\n",
       "      <th>Ridership</th>\n",
       "      <th>TotalRev</th>\n",
       "      <th>Day</th>\n",
       "      <th>Month</th>\n",
       "      <th>season_passholders</th>\n",
       "    </tr>\n",
       "  </thead>\n",
       "  <tbody>\n",
       "    <tr>\n",
       "      <th>0</th>\n",
       "      <td>Monday</td>\n",
       "      <td>53</td>\n",
       "      <td>82</td>\n",
       "      <td>5471</td>\n",
       "      <td>6999</td>\n",
       "      <td>0.00</td>\n",
       "      <td>56838.04</td>\n",
       "      <td>28032</td>\n",
       "      <td>35838.53</td>\n",
       "      <td>27437.39</td>\n",
       "      <td>10</td>\n",
       "      <td>28068</td>\n",
       "      <td>168826.54</td>\n",
       "      <td>29</td>\n",
       "      <td>5</td>\n",
       "      <td>1528</td>\n",
       "    </tr>\n",
       "    <tr>\n",
       "      <th>1</th>\n",
       "      <td>Tuesday</td>\n",
       "      <td>50</td>\n",
       "      <td>72</td>\n",
       "      <td>2887</td>\n",
       "      <td>4082</td>\n",
       "      <td>0.01</td>\n",
       "      <td>33148.98</td>\n",
       "      <td>15200</td>\n",
       "      <td>20904.45</td>\n",
       "      <td>15999.55</td>\n",
       "      <td>6</td>\n",
       "      <td>16370</td>\n",
       "      <td>98453.38</td>\n",
       "      <td>30</td>\n",
       "      <td>5</td>\n",
       "      <td>1195</td>\n",
       "    </tr>\n",
       "    <tr>\n",
       "      <th>2</th>\n",
       "      <td>Wednesday</td>\n",
       "      <td>50</td>\n",
       "      <td>59</td>\n",
       "      <td>3258</td>\n",
       "      <td>4424</td>\n",
       "      <td>0.03</td>\n",
       "      <td>35923.44</td>\n",
       "      <td>18132</td>\n",
       "      <td>22649.05</td>\n",
       "      <td>17341.59</td>\n",
       "      <td>1</td>\n",
       "      <td>17739</td>\n",
       "      <td>106697.74</td>\n",
       "      <td>31</td>\n",
       "      <td>5</td>\n",
       "      <td>1166</td>\n",
       "    </tr>\n",
       "    <tr>\n",
       "      <th>3</th>\n",
       "      <td>Thursday</td>\n",
       "      <td>51</td>\n",
       "      <td>64</td>\n",
       "      <td>6430</td>\n",
       "      <td>7167</td>\n",
       "      <td>0.23</td>\n",
       "      <td>58198.77</td>\n",
       "      <td>29888</td>\n",
       "      <td>36693.66</td>\n",
       "      <td>28095.16</td>\n",
       "      <td>8</td>\n",
       "      <td>28740</td>\n",
       "      <td>172868.15</td>\n",
       "      <td>1</td>\n",
       "      <td>6</td>\n",
       "      <td>737</td>\n",
       "    </tr>\n",
       "    <tr>\n",
       "      <th>4</th>\n",
       "      <td>Friday</td>\n",
       "      <td>50</td>\n",
       "      <td>55</td>\n",
       "      <td>5981</td>\n",
       "      <td>6388</td>\n",
       "      <td>0.12</td>\n",
       "      <td>51873.00</td>\n",
       "      <td>21648</td>\n",
       "      <td>32711.07</td>\n",
       "      <td>25038.58</td>\n",
       "      <td>7</td>\n",
       "      <td>25615</td>\n",
       "      <td>154067.45</td>\n",
       "      <td>2</td>\n",
       "      <td>6</td>\n",
       "      <td>407</td>\n",
       "    </tr>\n",
       "  </tbody>\n",
       "</table>\n",
       "</div>"
      ],
      "text/plain": [
       "     Weekday  LowTemp  HighTemp  DayPass  TotalPax  Precip  MerchRev  \\\n",
       "0     Monday       53        82     5471      6999    0.00  56838.04   \n",
       "1    Tuesday       50        72     2887      4082    0.01  33148.98   \n",
       "2  Wednesday       50        59     3258      4424    0.03  35923.44   \n",
       "3   Thursday       51        64     6430      7167    0.23  58198.77   \n",
       "4     Friday       50        55     5981      6388    0.12  51873.00   \n",
       "\n",
       "   SnackRev  LobsteramaRev  GoldZoneRev  CSD_Complaints  Ridership   TotalRev  \\\n",
       "0     28032       35838.53     27437.39              10      28068  168826.54   \n",
       "1     15200       20904.45     15999.55               6      16370   98453.38   \n",
       "2     18132       22649.05     17341.59               1      17739  106697.74   \n",
       "3     29888       36693.66     28095.16               8      28740  172868.15   \n",
       "4     21648       32711.07     25038.58               7      25615  154067.45   \n",
       "\n",
       "   Day  Month  season_passholders  \n",
       "0   29      5                1528  \n",
       "1   30      5                1195  \n",
       "2   31      5                1166  \n",
       "3    1      6                 737  \n",
       "4    2      6                 407  "
      ]
     },
     "execution_count": 14,
     "metadata": {},
     "output_type": "execute_result"
    }
   ],
   "source": [
    "# Subtract 'DayPass' from 'TotalPax' to get 'season_passholders'\n",
    "df['season_passholders'] = df['TotalPax'] - df['DayPass']\n",
    "\n",
    "# Check the updated DataFrame\n",
    "df.head()"
   ]
  },
  {
   "cell_type": "code",
   "execution_count": null,
   "metadata": {},
   "outputs": [],
   "source": []
  },
  {
   "cell_type": "markdown",
   "metadata": {},
   "source": [
    "## - if there is a mistake on LowTemp data entring, how can we find it?"
   ]
  },
  {
   "cell_type": "code",
   "execution_count": 15,
   "metadata": {},
   "outputs": [
    {
     "name": "stdout",
     "output_type": "stream",
     "text": [
      "Indices where LowTemp > HighTemp:\n",
      "Index([12], dtype='int64')\n",
      "\n",
      "Rows where LowTemp > HighTemp (before swap):\n"
     ]
    },
    {
     "data": {
      "text/html": [
       "<div>\n",
       "<style scoped>\n",
       "    .dataframe tbody tr th:only-of-type {\n",
       "        vertical-align: middle;\n",
       "    }\n",
       "\n",
       "    .dataframe tbody tr th {\n",
       "        vertical-align: top;\n",
       "    }\n",
       "\n",
       "    .dataframe thead th {\n",
       "        text-align: right;\n",
       "    }\n",
       "</style>\n",
       "<table border=\"1\" class=\"dataframe\">\n",
       "  <thead>\n",
       "    <tr style=\"text-align: right;\">\n",
       "      <th></th>\n",
       "      <th>Weekday</th>\n",
       "      <th>LowTemp</th>\n",
       "      <th>HighTemp</th>\n",
       "      <th>DayPass</th>\n",
       "      <th>TotalPax</th>\n",
       "      <th>Precip</th>\n",
       "      <th>MerchRev</th>\n",
       "      <th>SnackRev</th>\n",
       "      <th>LobsteramaRev</th>\n",
       "      <th>GoldZoneRev</th>\n",
       "      <th>CSD_Complaints</th>\n",
       "      <th>Ridership</th>\n",
       "      <th>TotalRev</th>\n",
       "      <th>Day</th>\n",
       "      <th>Month</th>\n",
       "      <th>season_passholders</th>\n",
       "    </tr>\n",
       "  </thead>\n",
       "  <tbody>\n",
       "    <tr>\n",
       "      <th>12</th>\n",
       "      <td>Saturday</td>\n",
       "      <td>74</td>\n",
       "      <td>51</td>\n",
       "      <td>6905</td>\n",
       "      <td>8045</td>\n",
       "      <td>0.0</td>\n",
       "      <td>65332.48</td>\n",
       "      <td>26832</td>\n",
       "      <td>41196.76</td>\n",
       "      <td>31539.98</td>\n",
       "      <td>7</td>\n",
       "      <td>32263</td>\n",
       "      <td>194050.94</td>\n",
       "      <td>10</td>\n",
       "      <td>6</td>\n",
       "      <td>1140</td>\n",
       "    </tr>\n",
       "  </tbody>\n",
       "</table>\n",
       "</div>"
      ],
      "text/plain": [
       "     Weekday  LowTemp  HighTemp  DayPass  TotalPax  Precip  MerchRev  \\\n",
       "12  Saturday       74        51     6905      8045     0.0  65332.48   \n",
       "\n",
       "    SnackRev  LobsteramaRev  GoldZoneRev  CSD_Complaints  Ridership  \\\n",
       "12     26832       41196.76     31539.98               7      32263   \n",
       "\n",
       "     TotalRev  Day  Month  season_passholders  \n",
       "12  194050.94   10      6                1140  "
      ]
     },
     "metadata": {},
     "output_type": "display_data"
    }
   ],
   "source": [
    "# Identify rows where 'LowTemp' is greater than 'HighTemp'\n",
    "reversed_temps_idx = df[df['LowTemp'] > df['HighTemp']].index\n",
    "\n",
    "# Display the indices of the rows where the condition is met\n",
    "print('Indices where LowTemp > HighTemp:')\n",
    "print(reversed_temps_idx)\n",
    "\n",
    "# Display the rows (records) before swapping\n",
    "print('\\nRows where LowTemp > HighTemp (before swap):')\n",
    "display(df.loc[reversed_temps_idx])\n"
   ]
  },
  {
   "cell_type": "code",
   "execution_count": 16,
   "metadata": {},
   "outputs": [
    {
     "name": "stdout",
     "output_type": "stream",
     "text": [
      "\n",
      "Rows where LowTemp > HighTemp (after swap):\n"
     ]
    },
    {
     "data": {
      "text/html": [
       "<div>\n",
       "<style scoped>\n",
       "    .dataframe tbody tr th:only-of-type {\n",
       "        vertical-align: middle;\n",
       "    }\n",
       "\n",
       "    .dataframe tbody tr th {\n",
       "        vertical-align: top;\n",
       "    }\n",
       "\n",
       "    .dataframe thead th {\n",
       "        text-align: right;\n",
       "    }\n",
       "</style>\n",
       "<table border=\"1\" class=\"dataframe\">\n",
       "  <thead>\n",
       "    <tr style=\"text-align: right;\">\n",
       "      <th></th>\n",
       "      <th>Weekday</th>\n",
       "      <th>LowTemp</th>\n",
       "      <th>HighTemp</th>\n",
       "      <th>DayPass</th>\n",
       "      <th>TotalPax</th>\n",
       "      <th>Precip</th>\n",
       "      <th>MerchRev</th>\n",
       "      <th>SnackRev</th>\n",
       "      <th>LobsteramaRev</th>\n",
       "      <th>GoldZoneRev</th>\n",
       "      <th>CSD_Complaints</th>\n",
       "      <th>Ridership</th>\n",
       "      <th>TotalRev</th>\n",
       "      <th>Day</th>\n",
       "      <th>Month</th>\n",
       "      <th>season_passholders</th>\n",
       "    </tr>\n",
       "  </thead>\n",
       "  <tbody>\n",
       "    <tr>\n",
       "      <th>12</th>\n",
       "      <td>Saturday</td>\n",
       "      <td>51</td>\n",
       "      <td>74</td>\n",
       "      <td>6905</td>\n",
       "      <td>8045</td>\n",
       "      <td>0.0</td>\n",
       "      <td>65332.48</td>\n",
       "      <td>26832</td>\n",
       "      <td>41196.76</td>\n",
       "      <td>31539.98</td>\n",
       "      <td>7</td>\n",
       "      <td>32263</td>\n",
       "      <td>194050.94</td>\n",
       "      <td>10</td>\n",
       "      <td>6</td>\n",
       "      <td>1140</td>\n",
       "    </tr>\n",
       "  </tbody>\n",
       "</table>\n",
       "</div>"
      ],
      "text/plain": [
       "     Weekday  LowTemp  HighTemp  DayPass  TotalPax  Precip  MerchRev  \\\n",
       "12  Saturday       51        74     6905      8045     0.0  65332.48   \n",
       "\n",
       "    SnackRev  LobsteramaRev  GoldZoneRev  CSD_Complaints  Ridership  \\\n",
       "12     26832       41196.76     31539.98               7      32263   \n",
       "\n",
       "     TotalRev  Day  Month  season_passholders  \n",
       "12  194050.94   10      6                1140  "
      ]
     },
     "metadata": {},
     "output_type": "display_data"
    }
   ],
   "source": [
    "# Swap the 'HighTemp' and 'LowTemp' values for those rows\n",
    "for idx in reversed_temps_idx:\n",
    "    df.at[idx, 'HighTemp'], df.at[idx, 'LowTemp'] = \\\n",
    "        df.at[idx, 'LowTemp'], df.at[idx, 'HighTemp']\n",
    "\n",
    "# Print out the rows where the temperatures were swapped to verify\n",
    "print('\\nRows where LowTemp > HighTemp (after swap):')\n",
    "display(df.loc[reversed_temps_idx])"
   ]
  },
  {
   "cell_type": "code",
   "execution_count": null,
   "metadata": {},
   "outputs": [],
   "source": []
  },
  {
   "cell_type": "markdown",
   "metadata": {
    "id": "mgiA5V_23knR"
   },
   "source": [
    "## - Missing values:"
   ]
  },
  {
   "cell_type": "code",
   "execution_count": 17,
   "metadata": {},
   "outputs": [
    {
     "name": "stdout",
     "output_type": "stream",
     "text": [
      "<class 'pandas.core.frame.DataFrame'>\n",
      "RangeIndex: 99 entries, 0 to 98\n",
      "Data columns (total 16 columns):\n",
      " #   Column              Non-Null Count  Dtype  \n",
      "---  ------              --------------  -----  \n",
      " 0   Weekday             99 non-null     object \n",
      " 1   LowTemp             99 non-null     int64  \n",
      " 2   HighTemp            99 non-null     int64  \n",
      " 3   DayPass             99 non-null     int64  \n",
      " 4   TotalPax            99 non-null     int64  \n",
      " 5   Precip              99 non-null     float64\n",
      " 6   MerchRev            99 non-null     float64\n",
      " 7   SnackRev            99 non-null     int64  \n",
      " 8   LobsteramaRev       99 non-null     float64\n",
      " 9   GoldZoneRev         99 non-null     float64\n",
      " 10  CSD_Complaints      99 non-null     int64  \n",
      " 11  Ridership           99 non-null     int64  \n",
      " 12  TotalRev            97 non-null     float64\n",
      " 13  Day                 99 non-null     int32  \n",
      " 14  Month               99 non-null     int32  \n",
      " 15  season_passholders  99 non-null     int64  \n",
      "dtypes: float64(5), int32(2), int64(8), object(1)\n",
      "memory usage: 11.7+ KB\n"
     ]
    }
   ],
   "source": [
    "df.info()"
   ]
  },
  {
   "cell_type": "markdown",
   "metadata": {},
   "source": [
    "<b>Result:\n",
    "All variables:</b><br>\n",
    "99 non-null values <br>\n",
    "TotalRev: 97 non-null values. (2 are NaN/missing)"
   ]
  },
  {
   "cell_type": "markdown",
   "metadata": {},
   "source": [
    "### -- Another way to check for missing values:"
   ]
  },
  {
   "cell_type": "code",
   "execution_count": 18,
   "metadata": {},
   "outputs": [
    {
     "data": {
      "text/html": [
       "<div>\n",
       "<style scoped>\n",
       "    .dataframe tbody tr th:only-of-type {\n",
       "        vertical-align: middle;\n",
       "    }\n",
       "\n",
       "    .dataframe tbody tr th {\n",
       "        vertical-align: top;\n",
       "    }\n",
       "\n",
       "    .dataframe thead th {\n",
       "        text-align: right;\n",
       "    }\n",
       "</style>\n",
       "<table border=\"1\" class=\"dataframe\">\n",
       "  <thead>\n",
       "    <tr style=\"text-align: right;\">\n",
       "      <th></th>\n",
       "      <th>Weekday</th>\n",
       "      <th>LowTemp</th>\n",
       "      <th>HighTemp</th>\n",
       "      <th>DayPass</th>\n",
       "      <th>TotalPax</th>\n",
       "      <th>Precip</th>\n",
       "      <th>MerchRev</th>\n",
       "      <th>SnackRev</th>\n",
       "      <th>LobsteramaRev</th>\n",
       "      <th>GoldZoneRev</th>\n",
       "      <th>CSD_Complaints</th>\n",
       "      <th>Ridership</th>\n",
       "      <th>TotalRev</th>\n",
       "      <th>Day</th>\n",
       "      <th>Month</th>\n",
       "      <th>season_passholders</th>\n",
       "    </tr>\n",
       "  </thead>\n",
       "  <tbody>\n",
       "    <tr>\n",
       "      <th>23</th>\n",
       "      <td>Wednesday</td>\n",
       "      <td>53</td>\n",
       "      <td>64</td>\n",
       "      <td>6291</td>\n",
       "      <td>7439</td>\n",
       "      <td>0.0</td>\n",
       "      <td>60410.99</td>\n",
       "      <td>30400</td>\n",
       "      <td>38082.75</td>\n",
       "      <td>29163.17</td>\n",
       "      <td>2</td>\n",
       "      <td>29831</td>\n",
       "      <td>NaN</td>\n",
       "      <td>21</td>\n",
       "      <td>6</td>\n",
       "      <td>1148</td>\n",
       "    </tr>\n",
       "    <tr>\n",
       "      <th>91</th>\n",
       "      <td>Monday</td>\n",
       "      <td>61</td>\n",
       "      <td>81</td>\n",
       "      <td>3303</td>\n",
       "      <td>4120</td>\n",
       "      <td>0.0</td>\n",
       "      <td>33456.28</td>\n",
       "      <td>16652</td>\n",
       "      <td>21097.15</td>\n",
       "      <td>16150.81</td>\n",
       "      <td>12</td>\n",
       "      <td>16523</td>\n",
       "      <td>NaN</td>\n",
       "      <td>28</td>\n",
       "      <td>8</td>\n",
       "      <td>817</td>\n",
       "    </tr>\n",
       "  </tbody>\n",
       "</table>\n",
       "</div>"
      ],
      "text/plain": [
       "      Weekday  LowTemp  HighTemp  DayPass  TotalPax  Precip  MerchRev  \\\n",
       "23  Wednesday       53        64     6291      7439     0.0  60410.99   \n",
       "91     Monday       61        81     3303      4120     0.0  33456.28   \n",
       "\n",
       "    SnackRev  LobsteramaRev  GoldZoneRev  CSD_Complaints  Ridership  TotalRev  \\\n",
       "23     30400       38082.75     29163.17               2      29831       NaN   \n",
       "91     16652       21097.15     16150.81              12      16523       NaN   \n",
       "\n",
       "    Day  Month  season_passholders  \n",
       "23   21      6                1148  \n",
       "91   28      8                 817  "
      ]
     },
     "execution_count": 18,
     "metadata": {},
     "output_type": "execute_result"
    }
   ],
   "source": [
    "df[df['TotalRev'].isna()]"
   ]
  },
  {
   "cell_type": "markdown",
   "metadata": {},
   "source": [
    "### - Another way to check for missing values:"
   ]
  },
  {
   "cell_type": "code",
   "execution_count": 19,
   "metadata": {},
   "outputs": [
    {
     "name": "stdout",
     "output_type": "stream",
     "text": [
      "Total Missing Values: 2\n"
     ]
    }
   ],
   "source": [
    "# Calculate the total number of missing values per column\n",
    "missing_values = df.isnull().sum()\n",
    "\n",
    "# Calculate the total number of missing values in the dataset\n",
    "total_missing = missing_values.sum()\n",
    "\n",
    "# Calculate the percentage of missing values per column\n",
    "missing_percentage = (missing_values / len(df)) * 100\n",
    "\n",
    "# Print the total number of missing values\n",
    "print(f\"Total Missing Values: {total_missing}\")\n"
   ]
  },
  {
   "cell_type": "markdown",
   "metadata": {},
   "source": [
    "### -- Another way to check for missing values:"
   ]
  },
  {
   "cell_type": "code",
   "execution_count": 20,
   "metadata": {},
   "outputs": [
    {
     "name": "stdout",
     "output_type": "stream",
     "text": [
      "\n",
      "Missing Values per Column (with percentage):\n"
     ]
    },
    {
     "data": {
      "text/html": [
       "<div>\n",
       "<style scoped>\n",
       "    .dataframe tbody tr th:only-of-type {\n",
       "        vertical-align: middle;\n",
       "    }\n",
       "\n",
       "    .dataframe tbody tr th {\n",
       "        vertical-align: top;\n",
       "    }\n",
       "\n",
       "    .dataframe thead th {\n",
       "        text-align: right;\n",
       "    }\n",
       "</style>\n",
       "<table border=\"1\" class=\"dataframe\">\n",
       "  <thead>\n",
       "    <tr style=\"text-align: right;\">\n",
       "      <th></th>\n",
       "      <th>Missing Values</th>\n",
       "      <th>Percentage (%)</th>\n",
       "    </tr>\n",
       "  </thead>\n",
       "  <tbody>\n",
       "    <tr>\n",
       "      <th>TotalRev</th>\n",
       "      <td>2</td>\n",
       "      <td>2.020202</td>\n",
       "    </tr>\n",
       "  </tbody>\n",
       "</table>\n",
       "</div>"
      ],
      "text/plain": [
       "          Missing Values  Percentage (%)\n",
       "TotalRev               2        2.020202"
      ]
     },
     "metadata": {},
     "output_type": "display_data"
    },
    {
     "name": "stdout",
     "output_type": "stream",
     "text": [
      "\n",
      "Rows where 'TotalRev' is missing:\n"
     ]
    },
    {
     "data": {
      "text/html": [
       "<div>\n",
       "<style scoped>\n",
       "    .dataframe tbody tr th:only-of-type {\n",
       "        vertical-align: middle;\n",
       "    }\n",
       "\n",
       "    .dataframe tbody tr th {\n",
       "        vertical-align: top;\n",
       "    }\n",
       "\n",
       "    .dataframe thead th {\n",
       "        text-align: right;\n",
       "    }\n",
       "</style>\n",
       "<table border=\"1\" class=\"dataframe\">\n",
       "  <thead>\n",
       "    <tr style=\"text-align: right;\">\n",
       "      <th></th>\n",
       "      <th>Weekday</th>\n",
       "      <th>LowTemp</th>\n",
       "      <th>HighTemp</th>\n",
       "      <th>DayPass</th>\n",
       "      <th>TotalPax</th>\n",
       "      <th>Precip</th>\n",
       "      <th>MerchRev</th>\n",
       "      <th>SnackRev</th>\n",
       "      <th>LobsteramaRev</th>\n",
       "      <th>GoldZoneRev</th>\n",
       "      <th>CSD_Complaints</th>\n",
       "      <th>Ridership</th>\n",
       "      <th>TotalRev</th>\n",
       "      <th>Day</th>\n",
       "      <th>Month</th>\n",
       "      <th>season_passholders</th>\n",
       "    </tr>\n",
       "  </thead>\n",
       "  <tbody>\n",
       "    <tr>\n",
       "      <th>23</th>\n",
       "      <td>Wednesday</td>\n",
       "      <td>53</td>\n",
       "      <td>64</td>\n",
       "      <td>6291</td>\n",
       "      <td>7439</td>\n",
       "      <td>0.0</td>\n",
       "      <td>60410.99</td>\n",
       "      <td>30400</td>\n",
       "      <td>38082.75</td>\n",
       "      <td>29163.17</td>\n",
       "      <td>2</td>\n",
       "      <td>29831</td>\n",
       "      <td>NaN</td>\n",
       "      <td>21</td>\n",
       "      <td>6</td>\n",
       "      <td>1148</td>\n",
       "    </tr>\n",
       "    <tr>\n",
       "      <th>91</th>\n",
       "      <td>Monday</td>\n",
       "      <td>61</td>\n",
       "      <td>81</td>\n",
       "      <td>3303</td>\n",
       "      <td>4120</td>\n",
       "      <td>0.0</td>\n",
       "      <td>33456.28</td>\n",
       "      <td>16652</td>\n",
       "      <td>21097.15</td>\n",
       "      <td>16150.81</td>\n",
       "      <td>12</td>\n",
       "      <td>16523</td>\n",
       "      <td>NaN</td>\n",
       "      <td>28</td>\n",
       "      <td>8</td>\n",
       "      <td>817</td>\n",
       "    </tr>\n",
       "  </tbody>\n",
       "</table>\n",
       "</div>"
      ],
      "text/plain": [
       "      Weekday  LowTemp  HighTemp  DayPass  TotalPax  Precip  MerchRev  \\\n",
       "23  Wednesday       53        64     6291      7439     0.0  60410.99   \n",
       "91     Monday       61        81     3303      4120     0.0  33456.28   \n",
       "\n",
       "    SnackRev  LobsteramaRev  GoldZoneRev  CSD_Complaints  Ridership  TotalRev  \\\n",
       "23     30400       38082.75     29163.17               2      29831       NaN   \n",
       "91     16652       21097.15     16150.81              12      16523       NaN   \n",
       "\n",
       "    Day  Month  season_passholders  \n",
       "23   21      6                1148  \n",
       "91   28      8                 817  "
      ]
     },
     "metadata": {},
     "output_type": "display_data"
    }
   ],
   "source": [
    "if total_missing > 0:\n",
    "    print(\"\\nMissing Values per Column (with percentage):\")\n",
    "    # Display columns with missing values and their percentages\n",
    "    missing_info = pd.DataFrame({\n",
    "        'Missing Values': missing_values[missing_values > 0],\n",
    "        'Percentage (%)': missing_percentage[missing_values > 0]\n",
    "    })\n",
    "    display(missing_info)\n",
    "    \n",
    "    # Display rows where 'TotalRev' is missing\n",
    "    print(\"\\nRows where 'TotalRev' is missing:\")\n",
    "    display(df[df['TotalRev'].isna()])\n",
    "else:\n",
    "    print(\"No missing values in the dataset.\")"
   ]
  },
  {
   "cell_type": "markdown",
   "metadata": {},
   "source": [
    "### -- How are we going to manage the missing values?"
   ]
  },
  {
   "cell_type": "code",
   "execution_count": 21,
   "metadata": {},
   "outputs": [
    {
     "data": {
      "text/html": [
       "<div>\n",
       "<style scoped>\n",
       "    .dataframe tbody tr th:only-of-type {\n",
       "        vertical-align: middle;\n",
       "    }\n",
       "\n",
       "    .dataframe tbody tr th {\n",
       "        vertical-align: top;\n",
       "    }\n",
       "\n",
       "    .dataframe thead th {\n",
       "        text-align: right;\n",
       "    }\n",
       "</style>\n",
       "<table border=\"1\" class=\"dataframe\">\n",
       "  <thead>\n",
       "    <tr style=\"text-align: right;\">\n",
       "      <th></th>\n",
       "      <th>Weekday</th>\n",
       "      <th>LowTemp</th>\n",
       "      <th>HighTemp</th>\n",
       "      <th>DayPass</th>\n",
       "      <th>TotalPax</th>\n",
       "      <th>Precip</th>\n",
       "      <th>MerchRev</th>\n",
       "      <th>SnackRev</th>\n",
       "      <th>LobsteramaRev</th>\n",
       "      <th>GoldZoneRev</th>\n",
       "      <th>CSD_Complaints</th>\n",
       "      <th>Ridership</th>\n",
       "      <th>TotalRev</th>\n",
       "      <th>Day</th>\n",
       "      <th>Month</th>\n",
       "      <th>season_passholders</th>\n",
       "      <th>MissingRev</th>\n",
       "    </tr>\n",
       "  </thead>\n",
       "  <tbody>\n",
       "    <tr>\n",
       "      <th>0</th>\n",
       "      <td>Monday</td>\n",
       "      <td>53</td>\n",
       "      <td>82</td>\n",
       "      <td>5471</td>\n",
       "      <td>6999</td>\n",
       "      <td>0.00</td>\n",
       "      <td>56838.04</td>\n",
       "      <td>28032</td>\n",
       "      <td>35838.53</td>\n",
       "      <td>27437.39</td>\n",
       "      <td>10</td>\n",
       "      <td>28068</td>\n",
       "      <td>168826.54</td>\n",
       "      <td>29</td>\n",
       "      <td>5</td>\n",
       "      <td>1528</td>\n",
       "      <td>20680.58</td>\n",
       "    </tr>\n",
       "    <tr>\n",
       "      <th>1</th>\n",
       "      <td>Tuesday</td>\n",
       "      <td>50</td>\n",
       "      <td>72</td>\n",
       "      <td>2887</td>\n",
       "      <td>4082</td>\n",
       "      <td>0.01</td>\n",
       "      <td>33148.98</td>\n",
       "      <td>15200</td>\n",
       "      <td>20904.45</td>\n",
       "      <td>15999.55</td>\n",
       "      <td>6</td>\n",
       "      <td>16370</td>\n",
       "      <td>98453.38</td>\n",
       "      <td>30</td>\n",
       "      <td>5</td>\n",
       "      <td>1195</td>\n",
       "      <td>13200.40</td>\n",
       "    </tr>\n",
       "    <tr>\n",
       "      <th>2</th>\n",
       "      <td>Wednesday</td>\n",
       "      <td>50</td>\n",
       "      <td>59</td>\n",
       "      <td>3258</td>\n",
       "      <td>4424</td>\n",
       "      <td>0.03</td>\n",
       "      <td>35923.44</td>\n",
       "      <td>18132</td>\n",
       "      <td>22649.05</td>\n",
       "      <td>17341.59</td>\n",
       "      <td>1</td>\n",
       "      <td>17739</td>\n",
       "      <td>106697.74</td>\n",
       "      <td>31</td>\n",
       "      <td>5</td>\n",
       "      <td>1166</td>\n",
       "      <td>12651.66</td>\n",
       "    </tr>\n",
       "    <tr>\n",
       "      <th>3</th>\n",
       "      <td>Thursday</td>\n",
       "      <td>51</td>\n",
       "      <td>64</td>\n",
       "      <td>6430</td>\n",
       "      <td>7167</td>\n",
       "      <td>0.23</td>\n",
       "      <td>58198.77</td>\n",
       "      <td>29888</td>\n",
       "      <td>36693.66</td>\n",
       "      <td>28095.16</td>\n",
       "      <td>8</td>\n",
       "      <td>28740</td>\n",
       "      <td>172868.15</td>\n",
       "      <td>1</td>\n",
       "      <td>6</td>\n",
       "      <td>737</td>\n",
       "      <td>19992.56</td>\n",
       "    </tr>\n",
       "    <tr>\n",
       "      <th>4</th>\n",
       "      <td>Friday</td>\n",
       "      <td>50</td>\n",
       "      <td>55</td>\n",
       "      <td>5981</td>\n",
       "      <td>6388</td>\n",
       "      <td>0.12</td>\n",
       "      <td>51873.00</td>\n",
       "      <td>21648</td>\n",
       "      <td>32711.07</td>\n",
       "      <td>25038.58</td>\n",
       "      <td>7</td>\n",
       "      <td>25615</td>\n",
       "      <td>154067.45</td>\n",
       "      <td>2</td>\n",
       "      <td>6</td>\n",
       "      <td>407</td>\n",
       "      <td>22796.80</td>\n",
       "    </tr>\n",
       "  </tbody>\n",
       "</table>\n",
       "</div>"
      ],
      "text/plain": [
       "     Weekday  LowTemp  HighTemp  DayPass  TotalPax  Precip  MerchRev  \\\n",
       "0     Monday       53        82     5471      6999    0.00  56838.04   \n",
       "1    Tuesday       50        72     2887      4082    0.01  33148.98   \n",
       "2  Wednesday       50        59     3258      4424    0.03  35923.44   \n",
       "3   Thursday       51        64     6430      7167    0.23  58198.77   \n",
       "4     Friday       50        55     5981      6388    0.12  51873.00   \n",
       "\n",
       "   SnackRev  LobsteramaRev  GoldZoneRev  CSD_Complaints  Ridership   TotalRev  \\\n",
       "0     28032       35838.53     27437.39              10      28068  168826.54   \n",
       "1     15200       20904.45     15999.55               6      16370   98453.38   \n",
       "2     18132       22649.05     17341.59               1      17739  106697.74   \n",
       "3     29888       36693.66     28095.16               8      28740  172868.15   \n",
       "4     21648       32711.07     25038.58               7      25615  154067.45   \n",
       "\n",
       "   Day  Month  season_passholders  MissingRev  \n",
       "0   29      5                1528    20680.58  \n",
       "1   30      5                1195    13200.40  \n",
       "2   31      5                1166    12651.66  \n",
       "3    1      6                 737    19992.56  \n",
       "4    2      6                 407    22796.80  "
      ]
     },
     "metadata": {},
     "output_type": "display_data"
    }
   ],
   "source": [
    "# looking closely at the TotalRev variable to figure out how to replace NA values.\n",
    "\n",
    "# 1. Identify Missing Revenue (MissingRev)\n",
    "df['MissingRev'] = df['TotalRev'] - (df['MerchRev'] + df['SnackRev'] + df['LobsteramaRev'] + df['GoldZoneRev'])\n",
    "df.head()\n",
    "\n",
    "# 2. Split the Data into Weekdays and Weekends\n",
    "weekdays = ['Monday', 'Tuesday', 'Wednesday', 'Thursday']\n",
    "\n",
    "df_week = df[df['Weekday'].isin(weekdays)]\n",
    "df_weekend = df[~df['Weekday'].isin(weekdays)]\n",
    "\n",
    "# 3. Calculate Averages for Weekdays and Weekends\n",
    "week_missing = df_week['MissingRev'].mean() #The average missing revenue for weekdays\n",
    "week_pax = df_week['TotalPax'].mean() #The average number of passengers  for weekdays\n",
    "\n",
    "weekend_missing = df_weekend['MissingRev'].mean() #The average missing revenue for weekends\n",
    "weekend_pax = df_weekend['TotalPax'].mean()  #The average number of passengers  for weekends\n",
    "\n",
    "# 4. Calculate Revenue Factors (average revenue per passenger)\n",
    "week_factor = week_missing / week_pax #Average missing revenue per passenger for weekdays\n",
    "weekend_factor = weekend_missing / weekend_pax #Average missing revenue per passenger for weekends\n",
    "\n",
    "# 5. Define a Function to Handle Missing TotalRev\n",
    "def handle_missing_total_rev(row):\n",
    "    if pd.isnull(row['TotalRev']):\n",
    "        # Check if the day is a weekday or weekend\n",
    "        if row['Weekday'] in weekdays:\n",
    "            # If it's a weekday, use the week_factor to estimate the missing TotalRev\n",
    "            return week_factor * row['TotalPax']\n",
    "        else:\n",
    "            # If it's a weekend, you may want to define a different method to estimate the TotalRev\n",
    "            # Currently, there's no information provided on how to handle weekends, so returning None\n",
    "            return weekend_factor * row['TotalPax']\n",
    "    else:\n",
    "        # If TotalRev is not missing, return it as is\n",
    "        return row['TotalRev']\n",
    "\n",
    "# Apply the function to each row in the DataFrame\n",
    "df['TotalRev'] = df.apply(handle_missing_total_rev, axis=1)\n",
    "display(df.head())"
   ]
  },
  {
   "cell_type": "code",
   "execution_count": 22,
   "metadata": {},
   "outputs": [
    {
     "data": {
      "text/plain": [
       "0"
      ]
     },
     "execution_count": 22,
     "metadata": {},
     "output_type": "execute_result"
    }
   ],
   "source": [
    "df[\"TotalRev\"].isnull().sum()"
   ]
  },
  {
   "cell_type": "code",
   "execution_count": null,
   "metadata": {},
   "outputs": [],
   "source": []
  },
  {
   "cell_type": "markdown",
   "metadata": {},
   "source": [
    "## - Checking Duplicate Values:"
   ]
  },
  {
   "cell_type": "code",
   "execution_count": 23,
   "metadata": {},
   "outputs": [
    {
     "name": "stdout",
     "output_type": "stream",
     "text": [
      "No duplicate rows found in the dataset.\n"
     ]
    }
   ],
   "source": [
    "# Check for duplicate rows in the entire DataFrame\n",
    "duplicate_rows = df[df.duplicated()]\n",
    "\n",
    "# Display duplicate rows (if any)\n",
    "if not duplicate_rows.empty:\n",
    "    print(f\"Number of duplicate rows: {len(duplicate_rows)}\")\n",
    "    display(duplicate_rows)\n",
    "else:\n",
    "    print(\"No duplicate rows found in the dataset.\")\n"
   ]
  },
  {
   "cell_type": "markdown",
   "metadata": {
    "id": "znJjs4NB3kpo"
   },
   "source": [
    "## - We can rename variable as our wish:"
   ]
  },
  {
   "cell_type": "code",
   "execution_count": 24,
   "metadata": {},
   "outputs": [
    {
     "data": {
      "text/plain": [
       "Index(['Weekday', 'LowTemp', 'HighTemp', 'DayPass', 'TotalPax', 'Precip',\n",
       "       'MerchRev', 'SnackRev', 'LobsteramaRev', 'GoldZoneRev',\n",
       "       'CSD_Complaints', 'Ridership', 'TotalRev', 'Day', 'Month',\n",
       "       'season_passholders', 'MissingRev'],\n",
       "      dtype='object')"
      ]
     },
     "execution_count": 24,
     "metadata": {},
     "output_type": "execute_result"
    }
   ],
   "source": [
    "df.columns"
   ]
  },
  {
   "cell_type": "code",
   "execution_count": 25,
   "metadata": {
    "id": "HLjJa2me4xTB",
    "scrolled": true
   },
   "outputs": [
    {
     "name": "stdout",
     "output_type": "stream",
     "text": [
      "     Weekday  LowTemp  HighTemp  DayPass  TotalPax  Precip  MerchRev  \\\n",
      "0     Monday       53        82     5471      6999    0.00  56838.04   \n",
      "1    Tuesday       50        72     2887      4082    0.01  33148.98   \n",
      "2  Wednesday       50        59     3258      4424    0.03  35923.44   \n",
      "3   Thursday       51        64     6430      7167    0.23  58198.77   \n",
      "4     Friday       50        55     5981      6388    0.12  51873.00   \n",
      "\n",
      "   SnackRev  LobsteramaRev  GoldZoneRev  Complaints  Ridership   TotalRev  \\\n",
      "0     28032       35838.53     27437.39          10      28068  168826.54   \n",
      "1     15200       20904.45     15999.55           6      16370   98453.38   \n",
      "2     18132       22649.05     17341.59           1      17739  106697.74   \n",
      "3     29888       36693.66     28095.16           8      28740  172868.15   \n",
      "4     21648       32711.07     25038.58           7      25615  154067.45   \n",
      "\n",
      "   Day  Month  season_passholders  MissingRev  \n",
      "0   29      5                1528    20680.58  \n",
      "1   30      5                1195    13200.40  \n",
      "2   31      5                1166    12651.66  \n",
      "3    1      6                 737    19992.56  \n",
      "4    2      6                 407    22796.80  \n"
     ]
    }
   ],
   "source": [
    "df.rename(columns={'CSD_Complaints': 'Complaints'}, inplace=True)\n",
    "\n",
    "# Print the updated DataFrame\n",
    "print(df.head())"
   ]
  },
  {
   "cell_type": "code",
   "execution_count": null,
   "metadata": {},
   "outputs": [],
   "source": []
  },
  {
   "cell_type": "markdown",
   "metadata": {},
   "source": [
    "## - Standart Deviation (sd) and Coefficient of Variation (cv):"
   ]
  },
  {
   "cell_type": "markdown",
   "metadata": {
    "id": "VU1Nwn6H3jqT"
   },
   "source": [
    "### sd of \"LobsteramaRev\" &  sd of \"GoldZoneRev\""
   ]
  },
  {
   "cell_type": "code",
   "execution_count": 26,
   "metadata": {
    "id": "1rPi8D6t4yYR"
   },
   "outputs": [
    {
     "name": "stdout",
     "output_type": "stream",
     "text": [
      "Standard Deviation of LobsteramaRev: 9715.24\n",
      "Standard Deviation of GoldZoneRev: 10422.46\n"
     ]
    }
   ],
   "source": [
    "std_lobsterama_rev = df['LobsteramaRev'].std()\n",
    "std_gold_zone_rev = df['GoldZoneRev'].std()\n",
    "\n",
    "print(f\"Standard Deviation of LobsteramaRev: {std_lobsterama_rev:.2f}\")\n",
    "print(f\"Standard Deviation of GoldZoneRev: {std_gold_zone_rev:.2f}\")"
   ]
  },
  {
   "cell_type": "markdown",
   "metadata": {
    "id": "fJAP59AM46QH"
   },
   "source": [
    "### CV of \"LobsteramaRev\" & CV of \"GoldZoneRev\""
   ]
  },
  {
   "cell_type": "code",
   "execution_count": 27,
   "metadata": {},
   "outputs": [
    {
     "name": "stdout",
     "output_type": "stream",
     "text": [
      "Coefficient of Variation (CV) for LobsteramaRev: 32.95%\n",
      "Coefficient of Variation (CV) for GoldZoneRev: 42.85%\n"
     ]
    }
   ],
   "source": [
    "# LobsteramaRev CV\n",
    "mean_lobsterama_rev = df['LobsteramaRev'].mean()\n",
    "std_lobsterama_rev = df['LobsteramaRev'].std()\n",
    "cv_lobsterama_rev = (std_lobsterama_rev / mean_lobsterama_rev) * 100\n",
    "\n",
    "# GoldZoneRev CV\n",
    "mean_gold_zone_rev = df['GoldZoneRev'].mean()\n",
    "std_gold_zone_rev = df['GoldZoneRev'].std()\n",
    "cv_gold_zone_rev = (std_gold_zone_rev / mean_gold_zone_rev) * 100\n",
    "\n",
    "print(f\"Coefficient of Variation (CV) for LobsteramaRev: {cv_lobsterama_rev:.2f}%\")\n",
    "print(f\"Coefficient of Variation (CV) for GoldZoneRev: {cv_gold_zone_rev:.2f}%\")"
   ]
  },
  {
   "cell_type": "code",
   "execution_count": null,
   "metadata": {},
   "outputs": [],
   "source": []
  },
  {
   "cell_type": "markdown",
   "metadata": {
    "id": "vbclcJAF3kr0"
   },
   "source": [
    "## Data Visualization:"
   ]
  },
  {
   "cell_type": "markdown",
   "metadata": {},
   "source": [
    "### - 1.Summary Statistics - Merchandise Revenue:"
   ]
  },
  {
   "cell_type": "code",
   "execution_count": 28,
   "metadata": {},
   "outputs": [
    {
     "data": {
      "text/plain": [
       "count       99.000000\n",
       "mean     46769.272424\n",
       "std      15407.183413\n",
       "min      17107.040000\n",
       "25%      34549.045000\n",
       "50%      49784.890000\n",
       "75%      57826.325000\n",
       "max      77581.920000\n",
       "Name: MerchRev, dtype: float64"
      ]
     },
     "execution_count": 28,
     "metadata": {},
     "output_type": "execute_result"
    }
   ],
   "source": [
    "df['MerchRev'].describe()"
   ]
  },
  {
   "cell_type": "code",
   "execution_count": null,
   "metadata": {},
   "outputs": [],
   "source": []
  },
  {
   "cell_type": "markdown",
   "metadata": {},
   "source": [
    "### 2.Histogram - Merchandise Revenue:"
   ]
  },
  {
   "cell_type": "code",
   "execution_count": 29,
   "metadata": {
    "id": "XQaTn69_4wIZ"
   },
   "outputs": [
    {
     "data": {
      "image/png": "[encoded data removed]",
      "text/plain": [
       "<Figure size 1000x600 with 1 Axes>"
      ]
     },
     "metadata": {},
     "output_type": "display_data"
    }
   ],
   "source": [
    "plt.figure(figsize=(10, 6))\n",
    "plt.hist(df['MerchRev'], bins=20, color='lightblue', edgecolor='black')\n",
    "plt.title('Distribution of Merchandise Revenue')\n",
    "plt.xlabel('Merchandise Revenue')\n",
    "plt.ylabel('Frequency')\n",
    "plt.grid(True)\n",
    "plt.show()"
   ]
  },
  {
   "cell_type": "code",
   "execution_count": null,
   "metadata": {},
   "outputs": [],
   "source": []
  },
  {
   "cell_type": "markdown",
   "metadata": {},
   "source": [
    "### 3.Histogram with Density - Merchandise Revenue:"
   ]
  },
  {
   "cell_type": "code",
   "execution_count": 30,
   "metadata": {
    "scrolled": true
   },
   "outputs": [
    {
     "data": {
      "image/png": "[encoded data removed]",
      "text/plain": [
       "<Figure size 1000x600 with 1 Axes>"
      ]
     },
     "metadata": {},
     "output_type": "display_data"
    }
   ],
   "source": [
    "# Set the style of seaborn\n",
    "sns.set(style=\"whitegrid\")\n",
    "\n",
    "# Initialize the matplotlib figure\n",
    "f, ax = plt.subplots(figsize=(10, 6))\n",
    "\n",
    "# Plot a histogram with density plot for MerchRev\n",
    "sns.histplot(df['MerchRev'], kde=True, bins=20, color=\"m\", ax=ax)\n",
    "\n",
    "# Add a title and labels\n",
    "ax.set_title('Distribution and Density of Merchandise Revenue')\n",
    "ax.set_xlabel('Merchandise Revenue')\n",
    "ax.set_ylabel('Frequency/Density')\n",
    "\n",
    "# Show the plot\n",
    "plt.show()"
   ]
  },
  {
   "cell_type": "markdown",
   "metadata": {},
   "source": [
    "<b>RESULT:</b>\n",
    "\n",
    "The data seem to be multimodal:</br>\n",
    "It looks like certain days of the week are highly profitable (below, we will see mainly 3 days),</br>\n",
    "\n",
    "The multimodal distribution reasons might be:</br>\n",
    "Visitors counting - We know that we have daily and season pass visitors. So, seasonpass might be effective to count.</br>\n",
    "Ride counting - We know if one visitor ride 12 times, counting will be 12 times.</br>\n",
    "Rev counting - Visitors can purchase something more than ones.</br>"
   ]
  },
  {
   "cell_type": "code",
   "execution_count": null,
   "metadata": {},
   "outputs": [],
   "source": []
  },
  {
   "cell_type": "markdown",
   "metadata": {},
   "source": [
    "### 4.Because of different peaks we should check indivually for std, mean and weigths - Merchandise Revenue:"
   ]
  },
  {
   "cell_type": "code",
   "execution_count": 31,
   "metadata": {},
   "outputs": [
    {
     "data": {
      "text/html": [
       "<div>\n",
       "<style scoped>\n",
       "    .dataframe tbody tr th:only-of-type {\n",
       "        vertical-align: middle;\n",
       "    }\n",
       "\n",
       "    .dataframe tbody tr th {\n",
       "        vertical-align: top;\n",
       "    }\n",
       "\n",
       "    .dataframe thead th {\n",
       "        text-align: right;\n",
       "    }\n",
       "</style>\n",
       "<table border=\"1\" class=\"dataframe\">\n",
       "  <thead>\n",
       "    <tr style=\"text-align: right;\">\n",
       "      <th></th>\n",
       "      <th>StandardDeviations</th>\n",
       "      <th>Means</th>\n",
       "      <th>Weights</th>\n",
       "    </tr>\n",
       "  </thead>\n",
       "  <tbody>\n",
       "    <tr>\n",
       "      <th>0</th>\n",
       "      <td>3321.742941</td>\n",
       "      <td>53371.849292</td>\n",
       "      <td>0.309917</td>\n",
       "    </tr>\n",
       "    <tr>\n",
       "      <th>1</th>\n",
       "      <td>8703.199880</td>\n",
       "      <td>32232.912937</td>\n",
       "      <td>0.447172</td>\n",
       "    </tr>\n",
       "    <tr>\n",
       "      <th>2</th>\n",
       "      <td>5747.238299</td>\n",
       "      <td>65105.244164</td>\n",
       "      <td>0.242911</td>\n",
       "    </tr>\n",
       "  </tbody>\n",
       "</table>\n",
       "</div>"
      ],
      "text/plain": [
       "   StandardDeviations         Means   Weights\n",
       "0         3321.742941  53371.849292  0.309917\n",
       "1         8703.199880  32232.912937  0.447172\n",
       "2         5747.238299  65105.244164  0.242911"
      ]
     },
     "metadata": {},
     "output_type": "display_data"
    }
   ],
   "source": [
    "import numpy as np\n",
    "from sklearn.mixture import GaussianMixture\n",
    "\n",
    "# Convert the DataFrame to a NumPy array\n",
    "data_array = df['MerchRev'].values.reshape(-1, 1)\n",
    "\n",
    "# Create and fit the Gaussian Mixture Model\n",
    "gmm = GaussianMixture(n_components=3)\n",
    "gmm.fit(data_array)\n",
    "\n",
    "# Get the means, standard deviations, and weights\n",
    "means = gmm.means_\n",
    "standard_deviations = np.sqrt(gmm.covariances_).flatten()\n",
    "weights = gmm.weights_\n",
    "\n",
    "# Import the display function\n",
    "from IPython.display import display\n",
    "\n",
    "# Create a DataFrame to hold the standard deviations\n",
    "std_dev_df = pd.DataFrame({'StandardDeviations': standard_deviations})\n",
    "std_dev_df['Means'] = means\n",
    "std_dev_df['Weights'] = weights\n",
    "\n",
    "# Display the DataFrame with the standard deviations\n",
    "display(std_dev_df)\n"
   ]
  },
  {
   "cell_type": "code",
   "execution_count": null,
   "metadata": {},
   "outputs": [],
   "source": []
  },
  {
   "cell_type": "markdown",
   "metadata": {
    "id": "pSVJXdDF4azg"
   },
   "source": [
    "### 5.Increasing the number of bins - Merchandise Revenue:"
   ]
  },
  {
   "cell_type": "code",
   "execution_count": 32,
   "metadata": {
    "id": "avRZMGPR4whA",
    "scrolled": true
   },
   "outputs": [
    {
     "data": {
      "image/png": "[encoded data removed]",
      "text/plain": [
       "<Figure size 1000x600 with 1 Axes>"
      ]
     },
     "metadata": {},
     "output_type": "display_data"
    }
   ],
   "source": [
    "# Set the style of seaborn\n",
    "sns.set(style=\"whitegrid\")\n",
    "\n",
    "# Initialize the matplotlib figure\n",
    "f, ax = plt.subplots(figsize=(10, 6))\n",
    "\n",
    "# Plot a histogram with density plot for MerchRev\n",
    "sns.histplot(df['MerchRev'], kde=True, bins=30, color=\"m\", ax=ax)\n",
    "\n",
    "# Add a title and labels\n",
    "ax.set_title('Distribution and Density of Merchandise Revenue')\n",
    "ax.set_xlabel('Merchandise Revenue')\n",
    "ax.set_ylabel('Frequency/Density')\n",
    "\n",
    "# Show the plot\n",
    "plt.show()\n"
   ]
  },
  {
   "cell_type": "markdown",
   "metadata": {},
   "source": [
    "<b>RESULT:</b></br>\n",
    "This makes it even more clear.</br>\n",
    "We can say 3 types of days are peak.</br>\n",
    "And data has some gaps.</br>\n",
    "Reason might be the park is open specific time in a year. "
   ]
  },
  {
   "cell_type": "code",
   "execution_count": null,
   "metadata": {},
   "outputs": [],
   "source": []
  },
  {
   "cell_type": "markdown",
   "metadata": {},
   "source": [
    "### 6.Revenue by date type - Merchandise Revenue:\n",
    "Weekend: Friday, Staurday, Sunday<br>\n",
    "Weekday: Monday, Tuesday, Wednesday,Thursday"
   ]
  },
  {
   "cell_type": "code",
   "execution_count": 33,
   "metadata": {},
   "outputs": [
    {
     "name": "stdout",
     "output_type": "stream",
     "text": [
      "    DayType        Day  Month  Peak_MerchRev\n",
      "3   Weekday   Thursday      6       58198.77\n",
      "8   Weekday    Tuesday      6       52848.41\n",
      "16  Weekday  Wednesday      6       58127.43\n",
      "21  Weekday     Monday      6       63732.15\n",
      "23  Weekday  Wednesday      6       60410.99\n",
      "29  Weekday    Tuesday      6       42857.01\n",
      "31  Weekday   Thursday      6       54596.27\n",
      "36  Weekday    Tuesday      7       37771.24\n",
      "45  Weekday   Thursday      7       58570.09\n",
      "52  Weekday   Thursday      7       54074.71\n",
      "59  Weekday   Thursday      7       61368.70\n",
      "65  Weekday  Wednesday      8       55299.47\n",
      "71  Weekday    Tuesday      8       54661.95\n",
      "79  Weekday  Wednesday      8       33513.34\n",
      "85  Weekday    Tuesday      8       54224.63\n",
      "87  Weekday   Thursday      8       52761.99\n",
      "93  Weekday  Wednesday      8       53908.02\n",
      "5   Weekend   Saturday      6       72980.28\n",
      "11  Weekend     Friday      6       65731.33\n",
      "19  Weekend   Saturday      6       69107.89\n",
      "25  Weekend     Friday      6       73872.37\n",
      "27  Weekend     Sunday      6       62642.68\n",
      "34  Weekend     Sunday      7       77581.92\n",
      "39  Weekend     Friday      7       59834.12\n",
      "41  Weekend     Sunday      7       71622.91\n",
      "47  Weekend   Saturday      7       56184.48\n",
      "55  Weekend     Sunday      7       57525.22\n",
      "61  Weekend   Saturday      7       70317.02\n",
      "67  Weekend     Friday      8       65092.01\n",
      "69  Weekend     Sunday      8       49434.52\n",
      "74  Weekend     Friday      8       70810.83\n",
      "81  Weekend     Friday      8       62386.38\n",
      "83  Weekend     Sunday      8       54109.85\n",
      "89  Weekend   Saturday      8       66438.24\n",
      "95  Weekend     Friday      9       46187.83\n"
     ]
    }
   ],
   "source": [
    "import pandas as pd\n",
    "from scipy.signal import find_peaks\n",
    "\n",
    "# Calculate the peaks in the 'MerchRev' column\n",
    "peaks, _ = find_peaks(df['MerchRev'], distance=1)\n",
    "\n",
    "# Define a function to classify the day as 'Weekend' or 'Weekday'\n",
    "def classify_day(day_str):\n",
    "    if day_str in ['Friday', 'Saturday', 'Sunday']:\n",
    "        return 'Weekend'\n",
    "    else:\n",
    "        return 'Weekday'\n",
    "\n",
    "# Create a new dataframe with the peak values\n",
    "peak_values_df = pd.DataFrame({\n",
    "    'DayType': df.iloc[peaks]['Weekday'].apply(classify_day),\n",
    "    'Day': df.iloc[peaks]['Weekday'],  # Assuming 'Weekday' column has the actual day names\n",
    "    'Month': df.iloc[peaks]['Month'],\n",
    "    'Peak_MerchRev': df.iloc[peaks]['MerchRev']\n",
    "})\n",
    "\n",
    "# Sort the DataFrame first by 'DayType' to group 'Weekday' and 'Weekend', then by 'Month'\n",
    "sorted_peak_values_df = peak_values_df.sort_values(by=['DayType', 'Month'])\n",
    "\n",
    "# Display the sorted DataFrame\n",
    "print(sorted_peak_values_df)\n"
   ]
  },
  {
   "cell_type": "code",
   "execution_count": null,
   "metadata": {},
   "outputs": [],
   "source": []
  },
  {
   "cell_type": "markdown",
   "metadata": {},
   "source": [
    "### 7.Average revenue by type of day - Merchandise Revenue:¶\n",
    "Weekend: Friday, Staurday, Sunday<br>\n",
    "Weekday: Monday, Tuesday, Wednesday,Thursday"
   ]
  },
  {
   "cell_type": "code",
   "execution_count": 34,
   "metadata": {},
   "outputs": [
    {
     "name": "stdout",
     "output_type": "stream",
     "text": [
      "TypeOfDay\n",
      "Weekday    53348.539412\n",
      "Weekend    63992.215556\n",
      "Name: Peak_MerchRev, dtype: float64\n"
     ]
    }
   ],
   "source": [
    "import pandas as pd\n",
    "from scipy.signal import find_peaks\n",
    "\n",
    "# Calculate the peaks in the 'MerchRev' column\n",
    "peaks, _ = find_peaks(df['MerchRev'], distance=1)\n",
    "\n",
    "# Create a new dataframe with the peak values\n",
    "peak_values_df = pd.DataFrame({\n",
    "    'Day': df.iloc[peaks]['Day'], \n",
    "    'Month': df.iloc[peaks]['Month'],\n",
    "    'Weekday': df.iloc[peaks]['Weekday'],\n",
    "    'Peak_MerchRev': df.iloc[peaks]['MerchRev'],  # Make sure to replace 'MerchRev' with your actual merchandise revenue column name\n",
    "})\n",
    "\n",
    "# Define a function to categorize days into 'Weekend' and 'Weekday'\n",
    "def categorize_day(weekday):\n",
    "    if weekday in ['Friday', 'Saturday', 'Sunday']:\n",
    "        return 'Weekend'\n",
    "    else:\n",
    "        return 'Weekday'\n",
    "\n",
    "# Apply the function to create a new column for type of day\n",
    "peak_values_df['TypeOfDay'] = peak_values_df['Weekday'].apply(categorize_day)\n",
    "\n",
    "# Group the peak values dataframe by 'TypeOfDay' and calculate the mean peak merchandise revenue for each category\n",
    "grouped_peak_values_df = peak_values_df.groupby('TypeOfDay')['Peak_MerchRev'].mean()\n",
    "\n",
    "# Display the grouped peak values dataframe\n",
    "print(grouped_peak_values_df)\n"
   ]
  },
  {
   "cell_type": "markdown",
   "metadata": {},
   "source": [
    "<strong>RESULT:</strong><br>\n",
    "* As we can see more revenue comes from weekend."
   ]
  },
  {
   "cell_type": "code",
   "execution_count": null,
   "metadata": {},
   "outputs": [],
   "source": []
  },
  {
   "cell_type": "markdown",
   "metadata": {
    "id": "2Cqjl9hq4aUN"
   },
   "source": [
    "### 8.Stack Bar Chart - Merchandise Revenue:\n",
    "- This time, showing the MerchRev distribution (with any number of bins) – but adding a new twist: Filling the bars of the histogram based on whether the day is a weekend or a weekday."
   ]
  },
  {
   "cell_type": "code",
   "execution_count": 35,
   "metadata": {},
   "outputs": [
    {
     "data": {
      "image/png": "[encoded data removed]",
      "text/plain": [
       "<Figure size 1000x600 with 2 Axes>"
      ]
     },
     "metadata": {},
     "output_type": "display_data"
    }
   ],
   "source": [
    "# Create a new column 'DayType' to indicate 'Weekend' or 'Weekday'\n",
    "weekday_mapping = {\n",
    "    'Monday': 'Weekday', 'Tuesday': 'Weekday', 'Wednesday': 'Weekday', 'Thursday': 'Weekday',\n",
    "    'Friday': 'Weekend', 'Saturday': 'Weekend', 'Sunday': 'Weekend'\n",
    "}\n",
    "\n",
    "df['DayType'] = df['Weekday'].map(weekday_mapping)\n",
    "\n",
    "# Split data into two DataFrames for Weekday and Weekend\n",
    "df_weekday = df[df['DayType'] == 'Weekday']\n",
    "df_weekend = df[df['DayType'] == 'Weekend']\n",
    "\n",
    "# Set the style of seaborn\n",
    "sns.set(style=\"whitegrid\")\n",
    "\n",
    "# Initialize the matplotlib figure\n",
    "f, ax1 = plt.subplots(figsize=(10, 6))\n",
    "\n",
    "# Plot histogram for Weekday\n",
    "sns.histplot(data=df_weekday, x='MerchRev', bins=30, kde=False, color='blue', label='Weekday', ax=ax1)\n",
    "\n",
    "# Create a secondary y-axis\n",
    "ax2 = ax1.twinx()\n",
    "\n",
    "# Plot histogram for Weekend on the secondary y-axis\n",
    "sns.histplot(data=df_weekend, x='MerchRev', bins=30, kde=False, color='green', label='Weekend', ax=ax2)\n",
    "\n",
    "# Set the y-ticks for ax2\n",
    "ax2.set_yticks([0, 1, 2, 3, 4])\n",
    "\n",
    "# Add a title and labels\n",
    "ax1.set_title('Distribution of Merchandise Revenue by Day Type')\n",
    "ax1.set_xlabel('Merchandise Revenue')\n",
    "ax1.set_ylabel('Frequency (Weekday)')\n",
    "ax2.set_ylabel('Frequency (Weekend)')\n",
    "\n",
    "# Create custom legends\n",
    "weekday_patch = mpatches.Patch(color='blue', label='Weekday')\n",
    "weekend_patch = mpatches.Patch(color='green', label='Weekend')\n",
    "plt.legend(handles=[weekday_patch, weekend_patch], loc='upper right')\n",
    "\n",
    "# Show the plot\n",
    "plt.show()\n",
    "\n"
   ]
  },
  {
   "cell_type": "markdown",
   "metadata": {},
   "source": [
    "<strong>RESULT:</strong></br>\n",
    "Having used separate y-axes for each day type,it becomes even more clear that <strong>weekends</strong> bring in more merchandise revenue than weekdays."
   ]
  },
  {
   "cell_type": "markdown",
   "metadata": {},
   "source": [
    "### 9. Stack Bar Chart Proof - Peak of the Day for Merchandise Revenue:"
   ]
  },
  {
   "cell_type": "code",
   "execution_count": 36,
   "metadata": {},
   "outputs": [
    {
     "name": "stdout",
     "output_type": "stream",
     "text": [
      "   DayType  Peak_MerchRev\n",
      "0  Weekday      906925.17\n",
      "1  Weekend     1151859.88\n"
     ]
    }
   ],
   "source": [
    "import pandas as pd\n",
    "from scipy.signal import find_peaks\n",
    "\n",
    "# Calculate the peaks in the 'MerchRev' column\n",
    "peaks, _ = find_peaks(df['MerchRev'], distance=1)\n",
    "\n",
    "# Define a function to classify the day as 'Weekend' or 'Weekday'\n",
    "def classify_day(day_str):\n",
    "    if day_str in ['Friday', 'Saturday', 'Sunday']:\n",
    "        return 'Weekend'\n",
    "    else:\n",
    "        return 'Weekday'\n",
    "\n",
    "# Create a new dataframe with the peak values\n",
    "peak_values_df = pd.DataFrame({\n",
    "    'DayType': df.iloc[peaks]['Weekday'].apply(classify_day),\n",
    "    'Peak_MerchRev': df.iloc[peaks]['MerchRev']\n",
    "})\n",
    "\n",
    "# Group by 'DayType' and calculate the sum of 'MerchRev' for each group\n",
    "weekday_weekend_merchrev = peak_values_df.groupby('DayType')['Peak_MerchRev'].sum().reset_index()\n",
    "\n",
    "# Display the DataFrame showing total 'MerchRev' for 'Weekday' and 'Weekend'\n",
    "print(weekday_weekend_merchrev)\n"
   ]
  },
  {
   "cell_type": "code",
   "execution_count": null,
   "metadata": {},
   "outputs": [],
   "source": []
  },
  {
   "cell_type": "markdown",
   "metadata": {
    "id": "bwJ2-Nek3kwl"
   },
   "source": [
    "### 10. Bar Plot: Revenue Comparing:\n",
    "- Which items generated the most total revenue across the entire season?  \n",
    "- Generating a bar plot that shows the total revenue for each of the individual revenue items included in this dataset (do not include total).  \n",
    "- Sort the bars in order (tallest to shortest, or shortest to tallest).  "
   ]
  },
  {
   "cell_type": "code",
   "execution_count": 37,
   "metadata": {
    "id": "Z2iaCr7P4udw"
   },
   "outputs": [
    {
     "data": {
      "image/png": "[encoded data removed]",
      "text/plain": [
       "<Figure size 500x500 with 1 Axes>"
      ]
     },
     "metadata": {},
     "output_type": "display_data"
    }
   ],
   "source": [
    "# Calculate the total revenue for each revenue item\n",
    "total_revenues = df[['MerchRev', 'SnackRev', 'LobsteramaRev', 'GoldZoneRev']].sum()\n",
    "\n",
    "# Sort the revenues in descending order\n",
    "sorted_revenues = total_revenues.sort_values(ascending=False)\n",
    "\n",
    "# Generate a bar plot\n",
    "plt.figure(figsize=(5, 5))\n",
    "sorted_revenues.plot(kind='bar')\n",
    "plt.title('Total Revenue for Each Revenue Item')\n",
    "plt.xlabel('Revenue Item')\n",
    "plt.ylabel('Total Revenue')\n",
    "plt.xticks(rotation=45)  # Rotate the x-axis labels for better readability\n",
    "plt.tight_layout()  # Adjust the layout to fit the labels\n",
    "\n",
    "# Show the plot\n",
    "plt.show()\n"
   ]
  },
  {
   "cell_type": "markdown",
   "metadata": {},
   "source": [
    "<strong>RESULT:</strong></br>\n",
    "This shows that merchandise brought in significantly more revenue than the other sources.</br>\n",
    "Without knowing anything about costs, however, we can't say anything about the contributions to profit."
   ]
  },
  {
   "cell_type": "code",
   "execution_count": null,
   "metadata": {},
   "outputs": [],
   "source": []
  },
  {
   "cell_type": "markdown",
   "metadata": {
    "id": "_j318udt3kzK"
   },
   "source": [
    "### 11. Scatter Plot - Merchandise Revenue\n",
    "- Can the number of visitors predict the number of complaints?  \n",
    "- Using the total number of visitors as an explanatory variable, and using the total number of complaints as the response variable."
   ]
  },
  {
   "cell_type": "code",
   "execution_count": 38,
   "metadata": {
    "id": "JkLmS3Zi4t2Z"
   },
   "outputs": [
    {
     "data": {
      "image/png": "[encoded data removed]",
      "text/plain": [
       "<Figure size 1000x600 with 1 Axes>"
      ]
     },
     "metadata": {},
     "output_type": "display_data"
    },
    {
     "name": "stdout",
     "output_type": "stream",
     "text": [
      "The Pearson correlation coefficient between total number of visitors and number of complaints is: -0.104\n"
     ]
    }
   ],
   "source": [
    "# Create a scatterplot with a regression line\n",
    "plt.figure(figsize=(10, 6))\n",
    "sns.regplot(x='TotalPax', y='Complaints', data=df, scatter_kws={'alpha':0.5})\n",
    "\n",
    "# Add a title and labels\n",
    "plt.title('Relationship Between Total Number of Visitors and Number of Complaints')\n",
    "plt.xlabel('Total Number of Visitors (TotalPax)')\n",
    "plt.ylabel('Number of Complaints (Complaints)')\n",
    "\n",
    "# Show the plot\n",
    "plt.show()\n",
    "\n",
    "# Calculate the Pearson correlation coefficient\n",
    "correlation = df['TotalPax'].corr(df['Complaints'])\n",
    "\n",
    "print(f\"The Pearson correlation coefficient between total number of visitors and number of complaints is: {correlation:.3f}\")"
   ]
  },
  {
   "cell_type": "markdown",
   "metadata": {},
   "source": [
    "<strong>RESULT:</strong></br>\n",
    "This is surprising; it shows a negative correlation between the number of visitors and the number of complaints.</br>\n",
    "<strong>That correlation is very weak</strong>, though.</br>\n",
    "It's possible that people are having more fun when there are more visitors,and so are less tempted to complain.</br>"
   ]
  },
  {
   "cell_type": "code",
   "execution_count": null,
   "metadata": {},
   "outputs": [],
   "source": []
  },
  {
   "cell_type": "markdown",
   "metadata": {
    "id": "__rD_5oF3k1Y"
   },
   "source": [
    "### 12. Box Plot - GoldZoneRev - Rainy Day Impact:\n",
    "- How does rain impact park operations?  \n",
    "- Let's compare days that did have some rain vs. days that had no rain.  \n",
    "- Creating a categorical variable that separates days with rain from days that had no rain.  \n",
    "- Next, generating an appropriate visualization to demonstrate a comparison of GoldZone revenue on rainy days vs. non-rainy days. "
   ]
  },
  {
   "cell_type": "code",
   "execution_count": 39,
   "metadata": {
    "id": "qz3BgVcD4luI"
   },
   "outputs": [
    {
     "data": {
      "image/png": "[encoded data removed]",
      "text/plain": [
       "<Figure size 1000x600 with 1 Axes>"
      ]
     },
     "metadata": {},
     "output_type": "display_data"
    }
   ],
   "source": [
    "# Create a new categorical variable 'RainyDay'\n",
    "df['RainyDay'] = df['Precip'].apply(lambda x: 'Rainy' if x > 0 else 'Non-Rainy')\n",
    "\n",
    "# Now, generate a boxplot to compare GoldZone revenue on rainy vs. non-rainy days\n",
    "plt.figure(figsize=(10, 6))\n",
    "sns.boxplot(x='RainyDay', y='GoldZoneRev', data=df)\n",
    "\n",
    "# Add a title and labels\n",
    "plt.title('Comparison of GoldZone Revenue on Rainy vs. Non-Rainy Days')\n",
    "plt.xlabel('Day Type')\n",
    "plt.ylabel('GoldZone Revenue')\n",
    "\n",
    "# Show the plot\n",
    "plt.show()"
   ]
  },
  {
   "cell_type": "markdown",
   "metadata": {},
   "source": [
    "<strong>RESULT:</strong></br>\n",
    "This shows a very small effect from rain, but it's including the 'trace' rain days"
   ]
  },
  {
   "cell_type": "code",
   "execution_count": null,
   "metadata": {},
   "outputs": [],
   "source": []
  },
  {
   "cell_type": "markdown",
   "metadata": {},
   "source": [
    "### 11. Box Plot - Impact of Rainy Day Removing T values ( replaced by 0.01) on GoldZoneRev\n",
    "- Looking at it again, but excluding the 'T' (trace) days of little rain."
   ]
  },
  {
   "cell_type": "code",
   "execution_count": 40,
   "metadata": {
    "id": "dhgcuqMm4mTA"
   },
   "outputs": [
    {
     "data": {
      "image/png": "[encoded data removed]",
      "text/plain": [
       "<Figure size 1000x600 with 1 Axes>"
      ]
     },
     "metadata": {},
     "output_type": "display_data"
    }
   ],
   "source": [
    "df['RainyDay'] = df['Precip'].apply(lambda x: 'Rainy' if x > 0.1 else 'Non-Rainy')\n",
    "\n",
    "# Now, generate a boxplot to compare GoldZone revenue on rainy vs. non-rainy days\n",
    "plt.figure(figsize=(10, 6))\n",
    "sns.boxplot(x='RainyDay', y='GoldZoneRev', data=df)\n",
    "\n",
    "# Add a title and labels\n",
    "plt.title('Comparison of GoldZone Revenue on Rainy vs. Non-Rainy Days')\n",
    "plt.xlabel('Day Type')\n",
    "plt.ylabel('GoldZone Revenue')\n",
    "\n",
    "# Show the plot\n",
    "plt.show()\n"
   ]
  },
  {
   "cell_type": "markdown",
   "metadata": {},
   "source": [
    "<strong>RESULT:</strong><br>\n",
    "By not including the 'trace' rain days as rainy days,</br>\n",
    "it becomes more clear that rain has a strong effect on GoldZone revenue.</br>\n",
    "It's likely that the rain is driving customers into the warmer, better-sheltered areas.</br>"
   ]
  },
  {
   "cell_type": "code",
   "execution_count": null,
   "metadata": {},
   "outputs": [],
   "source": []
  },
  {
   "cell_type": "markdown",
   "metadata": {
    "id": "LVCwNV8R4VvM"
   },
   "source": [
    "### 13. Box Plot - Impack of Rainy Days on Ridership:\n",
    "- Now, generating an appropriate visualization to demonstrate a comparison of Ridership on rainy days vs. non-rain days."
   ]
  },
  {
   "cell_type": "code",
   "execution_count": 41,
   "metadata": {},
   "outputs": [
    {
     "data": {
      "image/png": "[encoded data removed]",
      "text/plain": [
       "<Figure size 1000x600 with 1 Axes>"
      ]
     },
     "metadata": {},
     "output_type": "display_data"
    }
   ],
   "source": [
    "# Generate a boxplot to compare Ridership on rainy vs. non-rainy days\n",
    "plt.figure(figsize=(10, 6))\n",
    "sns.boxplot(x='RainyDay', y='Ridership', data=df)\n",
    "\n",
    "# Add a title and labels\n",
    "plt.title('Distribution of Ridership on Rainy vs. Non-Rainy Days')\n",
    "plt.xlabel('Day Type')\n",
    "plt.ylabel('Ridership')\n",
    "\n",
    "# Show the plot\n",
    "plt.show()"
   ]
  },
  {
   "cell_type": "markdown",
   "metadata": {},
   "source": [
    "<strong>RESULT:</strong></br>\n",
    "It looks like people are deciding not to go on rides, and going to GoldZone instead."
   ]
  },
  {
   "cell_type": "markdown",
   "metadata": {
    "id": "ENGMoJobzK4M"
   },
   "source": [
    "- To know about the impact of rain on a particular day, what else would be important to know, besides what's shown here in the dataset and description? \n",
    "- (Note that Lobster Land is open each day of operation from 9 a.m. to 9 p.m.)"
   ]
  },
  {
   "cell_type": "markdown",
   "metadata": {
    "id": "BqN1K0WVugDR"
   },
   "source": [
    "<strong>What we can think based on the given columns:</strong></br>\n",
    "It would be helpful to have the rainfall data on an hourly basis.</br>\n",
    "That way, we could differentiate between rain that fell at night and rain that fell during hours of operation.</br>\n",
    "We could also investigate the effect of rain early in the day vs. late:</br>\n",
    "For example, rain earlier in the day will more likely dissuade visitors from coming that day."
   ]
  }
 ],
 "metadata": {
  "colab": {
   "provenance": [],
   "toc_visible": true
  },
  "kernelspec": {
   "display_name": "Python 3 (ipykernel)",
   "language": "python",
   "name": "python3"
  },
  "language_info": {
   "codemirror_mode": {
    "name": "ipython",
    "version": 3
   },
   "file_extension": ".py",
   "mimetype": "text/x-python",
   "name": "python",
   "nbconvert_exporter": "python",
   "pygments_lexer": "ipython3",
   "version": "3.11.5"
  }
 },
 "nbformat": 4,
 "nbformat_minor": 4
}
